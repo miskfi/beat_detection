{
 "cells": [
  {
   "cell_type": "markdown",
   "id": "3dbd2678-e1d8-41d1-a088-c35000722f2c",
   "metadata": {
    "id": "3dbd2678-e1d8-41d1-a088-c35000722f2c"
   },
   "source": [
    "# Beat detection and tempo analysis of musical recordings\n",
    "\n",
    "This project aims to build a simple deep learning model that will analyze audio recordings and try to detect where the beats occur in those recordings. That information can then be used to infer the tempo of the song, measured in beats per minute (BPM)."
   ]
  },
  {
   "cell_type": "markdown",
   "id": "3a2753ad-508c-43ac-ada4-7da7123aede0",
   "metadata": {
    "id": "3a2753ad-508c-43ac-ada4-7da7123aede0"
   },
   "source": [
    "## Package installation and import"
   ]
  },
  {
   "cell_type": "code",
   "execution_count": 1,
   "id": "e458ebe3-2342-4f3f-b83a-e4b07a7958a1",
   "metadata": {
    "colab": {
     "base_uri": "https://localhost:8080/"
    },
    "id": "e458ebe3-2342-4f3f-b83a-e4b07a7958a1",
    "outputId": "d9382af2-3d16-4c0d-ae2d-6092da0f7467"
   },
   "outputs": [
    {
     "name": "stdout",
     "output_type": "stream",
     "text": [
      "Requirement already satisfied: einops in /usr/local/lib/python3.10/dist-packages (0.8.0)\n",
      "Requirement already satisfied: mir_eval in /usr/local/lib/python3.10/dist-packages (0.7)\n",
      "Requirement already satisfied: numpy>=1.7.0 in /usr/local/lib/python3.10/dist-packages (from mir_eval) (1.26.4)\n",
      "Requirement already satisfied: scipy>=1.0.0 in /usr/local/lib/python3.10/dist-packages (from mir_eval) (1.13.1)\n",
      "Requirement already satisfied: future in /usr/local/lib/python3.10/dist-packages (from mir_eval) (1.0.0)\n",
      "Requirement already satisfied: six in /usr/local/lib/python3.10/dist-packages (from mir_eval) (1.16.0)\n",
      "Requirement already satisfied: mirdata in /usr/local/lib/python3.10/dist-packages (0.3.9)\n",
      "Requirement already satisfied: attrs>=23.1.0 in /usr/local/lib/python3.10/dist-packages (from mirdata) (24.2.0)\n",
      "Requirement already satisfied: chardet>=5.0.0 in /usr/local/lib/python3.10/dist-packages (from mirdata) (5.2.0)\n",
      "Requirement already satisfied: Deprecated>=1.2.14 in /usr/local/lib/python3.10/dist-packages (from mirdata) (1.2.15)\n",
      "Requirement already satisfied: h5py>=3.7.0 in /usr/local/lib/python3.10/dist-packages (from mirdata) (3.12.1)\n",
      "Requirement already satisfied: jams>=0.3.4 in /usr/local/lib/python3.10/dist-packages (from mirdata) (0.3.4)\n",
      "Requirement already satisfied: librosa>=0.10.1 in /usr/local/lib/python3.10/dist-packages (from mirdata) (0.10.2.post1)\n",
      "Requirement already satisfied: numpy<2.0,>=1.21.6 in /usr/local/lib/python3.10/dist-packages (from mirdata) (1.26.4)\n",
      "Requirement already satisfied: pandas>=1.3.5 in /usr/local/lib/python3.10/dist-packages (from mirdata) (2.2.2)\n",
      "Requirement already satisfied: pretty-midi>=0.2.10 in /usr/local/lib/python3.10/dist-packages (from mirdata) (0.2.10)\n",
      "Requirement already satisfied: pyyaml>=6.0 in /usr/local/lib/python3.10/dist-packages (from mirdata) (6.0.2)\n",
      "Requirement already satisfied: openpyxl>=3.0.10 in /usr/local/lib/python3.10/dist-packages (from mirdata) (3.1.5)\n",
      "Requirement already satisfied: requests>=2.31.0 in /usr/local/lib/python3.10/dist-packages (from mirdata) (2.32.3)\n",
      "Requirement already satisfied: scipy>=1.7.3 in /usr/local/lib/python3.10/dist-packages (from mirdata) (1.13.1)\n",
      "Requirement already satisfied: tqdm>=4.66.1 in /usr/local/lib/python3.10/dist-packages (from mirdata) (4.66.6)\n",
      "Requirement already satisfied: smart-open>=5.0.0 in /usr/local/lib/python3.10/dist-packages (from smart-open[all]>=5.0.0->mirdata) (7.0.5)\n",
      "Requirement already satisfied: wrapt<2,>=1.10 in /usr/local/lib/python3.10/dist-packages (from Deprecated>=1.2.14->mirdata) (1.16.0)\n",
      "Requirement already satisfied: sortedcontainers>=2.0.0 in /usr/local/lib/python3.10/dist-packages (from jams>=0.3.4->mirdata) (2.4.0)\n",
      "Requirement already satisfied: jsonschema>=3.0.0 in /usr/local/lib/python3.10/dist-packages (from jams>=0.3.4->mirdata) (4.23.0)\n",
      "Requirement already satisfied: six in /usr/local/lib/python3.10/dist-packages (from jams>=0.3.4->mirdata) (1.16.0)\n",
      "Requirement already satisfied: decorator in /usr/local/lib/python3.10/dist-packages (from jams>=0.3.4->mirdata) (4.4.2)\n",
      "Requirement already satisfied: mir-eval>=0.5 in /usr/local/lib/python3.10/dist-packages (from jams>=0.3.4->mirdata) (0.7)\n",
      "Requirement already satisfied: audioread>=2.1.9 in /usr/local/lib/python3.10/dist-packages (from librosa>=0.10.1->mirdata) (3.0.1)\n",
      "Requirement already satisfied: scikit-learn>=0.20.0 in /usr/local/lib/python3.10/dist-packages (from librosa>=0.10.1->mirdata) (1.5.2)\n",
      "Requirement already satisfied: joblib>=0.14 in /usr/local/lib/python3.10/dist-packages (from librosa>=0.10.1->mirdata) (1.4.2)\n",
      "Requirement already satisfied: numba>=0.51.0 in /usr/local/lib/python3.10/dist-packages (from librosa>=0.10.1->mirdata) (0.60.0)\n",
      "Requirement already satisfied: soundfile>=0.12.1 in /usr/local/lib/python3.10/dist-packages (from librosa>=0.10.1->mirdata) (0.12.1)\n",
      "Requirement already satisfied: pooch>=1.1 in /usr/local/lib/python3.10/dist-packages (from librosa>=0.10.1->mirdata) (1.8.2)\n",
      "Requirement already satisfied: soxr>=0.3.2 in /usr/local/lib/python3.10/dist-packages (from librosa>=0.10.1->mirdata) (0.5.0.post1)\n",
      "Requirement already satisfied: typing-extensions>=4.1.1 in /usr/local/lib/python3.10/dist-packages (from librosa>=0.10.1->mirdata) (4.12.2)\n",
      "Requirement already satisfied: lazy-loader>=0.1 in /usr/local/lib/python3.10/dist-packages (from librosa>=0.10.1->mirdata) (0.4)\n",
      "Requirement already satisfied: msgpack>=1.0 in /usr/local/lib/python3.10/dist-packages (from librosa>=0.10.1->mirdata) (1.1.0)\n",
      "Requirement already satisfied: et-xmlfile in /usr/local/lib/python3.10/dist-packages (from openpyxl>=3.0.10->mirdata) (2.0.0)\n",
      "Requirement already satisfied: python-dateutil>=2.8.2 in /usr/local/lib/python3.10/dist-packages (from pandas>=1.3.5->mirdata) (2.8.2)\n",
      "Requirement already satisfied: pytz>=2020.1 in /usr/local/lib/python3.10/dist-packages (from pandas>=1.3.5->mirdata) (2024.2)\n",
      "Requirement already satisfied: tzdata>=2022.7 in /usr/local/lib/python3.10/dist-packages (from pandas>=1.3.5->mirdata) (2024.2)\n",
      "Requirement already satisfied: mido>=1.1.16 in /usr/local/lib/python3.10/dist-packages (from pretty-midi>=0.2.10->mirdata) (1.3.3)\n",
      "Requirement already satisfied: charset-normalizer<4,>=2 in /usr/local/lib/python3.10/dist-packages (from requests>=2.31.0->mirdata) (3.4.0)\n",
      "Requirement already satisfied: idna<4,>=2.5 in /usr/local/lib/python3.10/dist-packages (from requests>=2.31.0->mirdata) (3.10)\n",
      "Requirement already satisfied: urllib3<3,>=1.21.1 in /usr/local/lib/python3.10/dist-packages (from requests>=2.31.0->mirdata) (2.2.3)\n",
      "Requirement already satisfied: certifi>=2017.4.17 in /usr/local/lib/python3.10/dist-packages (from requests>=2.31.0->mirdata) (2024.8.30)\n",
      "Requirement already satisfied: boto3 in /usr/local/lib/python3.10/dist-packages (from smart-open[all]>=5.0.0->mirdata) (1.35.70)\n",
      "Requirement already satisfied: google-cloud-storage>=2.6.0 in /usr/local/lib/python3.10/dist-packages (from smart-open[all]>=5.0.0->mirdata) (2.8.0)\n",
      "Requirement already satisfied: azure-storage-blob in /usr/local/lib/python3.10/dist-packages (from smart-open[all]>=5.0.0->mirdata) (12.24.0)\n",
      "Requirement already satisfied: azure-common in /usr/local/lib/python3.10/dist-packages (from smart-open[all]>=5.0.0->mirdata) (1.1.28)\n",
      "Requirement already satisfied: azure-core in /usr/local/lib/python3.10/dist-packages (from smart-open[all]>=5.0.0->mirdata) (1.32.0)\n",
      "Requirement already satisfied: paramiko in /usr/local/lib/python3.10/dist-packages (from smart-open[all]>=5.0.0->mirdata) (3.5.0)\n",
      "Requirement already satisfied: zstandard in /usr/local/lib/python3.10/dist-packages (from smart-open[all]>=5.0.0->mirdata) (0.23.0)\n",
      "Requirement already satisfied: google-auth<3.0dev,>=1.25.0 in /usr/local/lib/python3.10/dist-packages (from google-cloud-storage>=2.6.0->smart-open[all]>=5.0.0->mirdata) (2.27.0)\n",
      "Requirement already satisfied: google-api-core!=2.0.*,!=2.1.*,!=2.2.*,!=2.3.0,<3.0.0dev,>=1.31.5 in /usr/local/lib/python3.10/dist-packages (from google-cloud-storage>=2.6.0->smart-open[all]>=5.0.0->mirdata) (2.19.2)\n",
      "Requirement already satisfied: google-cloud-core<3.0dev,>=2.3.0 in /usr/local/lib/python3.10/dist-packages (from google-cloud-storage>=2.6.0->smart-open[all]>=5.0.0->mirdata) (2.4.1)\n",
      "Requirement already satisfied: google-resumable-media>=2.3.2 in /usr/local/lib/python3.10/dist-packages (from google-cloud-storage>=2.6.0->smart-open[all]>=5.0.0->mirdata) (2.7.2)\n",
      "Requirement already satisfied: jsonschema-specifications>=2023.03.6 in /usr/local/lib/python3.10/dist-packages (from jsonschema>=3.0.0->jams>=0.3.4->mirdata) (2024.10.1)\n",
      "Requirement already satisfied: referencing>=0.28.4 in /usr/local/lib/python3.10/dist-packages (from jsonschema>=3.0.0->jams>=0.3.4->mirdata) (0.35.1)\n",
      "Requirement already satisfied: rpds-py>=0.7.1 in /usr/local/lib/python3.10/dist-packages (from jsonschema>=3.0.0->jams>=0.3.4->mirdata) (0.21.0)\n",
      "Requirement already satisfied: packaging in /usr/local/lib/python3.10/dist-packages (from lazy-loader>=0.1->librosa>=0.10.1->mirdata) (24.2)\n",
      "Requirement already satisfied: future in /usr/local/lib/python3.10/dist-packages (from mir-eval>=0.5->jams>=0.3.4->mirdata) (1.0.0)\n",
      "Requirement already satisfied: llvmlite<0.44,>=0.43.0dev0 in /usr/local/lib/python3.10/dist-packages (from numba>=0.51.0->librosa>=0.10.1->mirdata) (0.43.0)\n",
      "Requirement already satisfied: platformdirs>=2.5.0 in /usr/local/lib/python3.10/dist-packages (from pooch>=1.1->librosa>=0.10.1->mirdata) (4.3.6)\n",
      "Requirement already satisfied: threadpoolctl>=3.1.0 in /usr/local/lib/python3.10/dist-packages (from scikit-learn>=0.20.0->librosa>=0.10.1->mirdata) (3.5.0)\n",
      "Requirement already satisfied: cffi>=1.0 in /usr/local/lib/python3.10/dist-packages (from soundfile>=0.12.1->librosa>=0.10.1->mirdata) (1.17.1)\n",
      "Requirement already satisfied: cryptography>=2.1.4 in /usr/local/lib/python3.10/dist-packages (from azure-storage-blob->smart-open[all]>=5.0.0->mirdata) (43.0.3)\n",
      "Requirement already satisfied: isodate>=0.6.1 in /usr/local/lib/python3.10/dist-packages (from azure-storage-blob->smart-open[all]>=5.0.0->mirdata) (0.7.2)\n",
      "Requirement already satisfied: botocore<1.36.0,>=1.35.70 in /usr/local/lib/python3.10/dist-packages (from boto3->smart-open[all]>=5.0.0->mirdata) (1.35.70)\n",
      "Requirement already satisfied: jmespath<2.0.0,>=0.7.1 in /usr/local/lib/python3.10/dist-packages (from boto3->smart-open[all]>=5.0.0->mirdata) (1.0.1)\n",
      "Requirement already satisfied: s3transfer<0.11.0,>=0.10.0 in /usr/local/lib/python3.10/dist-packages (from boto3->smart-open[all]>=5.0.0->mirdata) (0.10.4)\n",
      "Requirement already satisfied: bcrypt>=3.2 in /usr/local/lib/python3.10/dist-packages (from paramiko->smart-open[all]>=5.0.0->mirdata) (4.2.1)\n",
      "Requirement already satisfied: pynacl>=1.5 in /usr/local/lib/python3.10/dist-packages (from paramiko->smart-open[all]>=5.0.0->mirdata) (1.5.0)\n",
      "Requirement already satisfied: pycparser in /usr/local/lib/python3.10/dist-packages (from cffi>=1.0->soundfile>=0.12.1->librosa>=0.10.1->mirdata) (2.22)\n",
      "Requirement already satisfied: googleapis-common-protos<2.0.dev0,>=1.56.2 in /usr/local/lib/python3.10/dist-packages (from google-api-core!=2.0.*,!=2.1.*,!=2.2.*,!=2.3.0,<3.0.0dev,>=1.31.5->google-cloud-storage>=2.6.0->smart-open[all]>=5.0.0->mirdata) (1.66.0)\n",
      "Requirement already satisfied: protobuf!=3.20.0,!=3.20.1,!=4.21.0,!=4.21.1,!=4.21.2,!=4.21.3,!=4.21.4,!=4.21.5,<6.0.0.dev0,>=3.19.5 in /usr/local/lib/python3.10/dist-packages (from google-api-core!=2.0.*,!=2.1.*,!=2.2.*,!=2.3.0,<3.0.0dev,>=1.31.5->google-cloud-storage>=2.6.0->smart-open[all]>=5.0.0->mirdata) (4.25.5)\n",
      "Requirement already satisfied: proto-plus<2.0.0dev,>=1.22.3 in /usr/local/lib/python3.10/dist-packages (from google-api-core!=2.0.*,!=2.1.*,!=2.2.*,!=2.3.0,<3.0.0dev,>=1.31.5->google-cloud-storage>=2.6.0->smart-open[all]>=5.0.0->mirdata) (1.25.0)\n",
      "Requirement already satisfied: cachetools<6.0,>=2.0.0 in /usr/local/lib/python3.10/dist-packages (from google-auth<3.0dev,>=1.25.0->google-cloud-storage>=2.6.0->smart-open[all]>=5.0.0->mirdata) (5.5.0)\n",
      "Requirement already satisfied: pyasn1-modules>=0.2.1 in /usr/local/lib/python3.10/dist-packages (from google-auth<3.0dev,>=1.25.0->google-cloud-storage>=2.6.0->smart-open[all]>=5.0.0->mirdata) (0.4.1)\n",
      "Requirement already satisfied: rsa<5,>=3.1.4 in /usr/local/lib/python3.10/dist-packages (from google-auth<3.0dev,>=1.25.0->google-cloud-storage>=2.6.0->smart-open[all]>=5.0.0->mirdata) (4.9)\n",
      "Requirement already satisfied: google-crc32c<2.0dev,>=1.0 in /usr/local/lib/python3.10/dist-packages (from google-resumable-media>=2.3.2->google-cloud-storage>=2.6.0->smart-open[all]>=5.0.0->mirdata) (1.6.0)\n",
      "Requirement already satisfied: pyasn1<0.7.0,>=0.4.6 in /usr/local/lib/python3.10/dist-packages (from pyasn1-modules>=0.2.1->google-auth<3.0dev,>=1.25.0->google-cloud-storage>=2.6.0->smart-open[all]>=5.0.0->mirdata) (0.6.1)\n",
      "Requirement already satisfied: pytorch-lightning in /usr/local/lib/python3.10/dist-packages (2.4.0)\n",
      "Requirement already satisfied: torch>=2.1.0 in /usr/local/lib/python3.10/dist-packages (from pytorch-lightning) (2.5.1+cu121)\n",
      "Requirement already satisfied: tqdm>=4.57.0 in /usr/local/lib/python3.10/dist-packages (from pytorch-lightning) (4.66.6)\n",
      "Requirement already satisfied: PyYAML>=5.4 in /usr/local/lib/python3.10/dist-packages (from pytorch-lightning) (6.0.2)\n",
      "Requirement already satisfied: fsspec>=2022.5.0 in /usr/local/lib/python3.10/dist-packages (from fsspec[http]>=2022.5.0->pytorch-lightning) (2024.10.0)\n",
      "Requirement already satisfied: torchmetrics>=0.7.0 in /usr/local/lib/python3.10/dist-packages (from pytorch-lightning) (1.6.0)\n",
      "Requirement already satisfied: packaging>=20.0 in /usr/local/lib/python3.10/dist-packages (from pytorch-lightning) (24.2)\n",
      "Requirement already satisfied: typing-extensions>=4.4.0 in /usr/local/lib/python3.10/dist-packages (from pytorch-lightning) (4.12.2)\n",
      "Requirement already satisfied: lightning-utilities>=0.10.0 in /usr/local/lib/python3.10/dist-packages (from pytorch-lightning) (0.11.9)\n",
      "Requirement already satisfied: aiohttp!=4.0.0a0,!=4.0.0a1 in /usr/local/lib/python3.10/dist-packages (from fsspec[http]>=2022.5.0->pytorch-lightning) (3.11.2)\n",
      "Requirement already satisfied: setuptools in /usr/local/lib/python3.10/dist-packages (from lightning-utilities>=0.10.0->pytorch-lightning) (75.1.0)\n",
      "Requirement already satisfied: filelock in /usr/local/lib/python3.10/dist-packages (from torch>=2.1.0->pytorch-lightning) (3.16.1)\n",
      "Requirement already satisfied: networkx in /usr/local/lib/python3.10/dist-packages (from torch>=2.1.0->pytorch-lightning) (3.4.2)\n",
      "Requirement already satisfied: jinja2 in /usr/local/lib/python3.10/dist-packages (from torch>=2.1.0->pytorch-lightning) (3.1.4)\n",
      "Requirement already satisfied: sympy==1.13.1 in /usr/local/lib/python3.10/dist-packages (from torch>=2.1.0->pytorch-lightning) (1.13.1)\n",
      "Requirement already satisfied: mpmath<1.4,>=1.1.0 in /usr/local/lib/python3.10/dist-packages (from sympy==1.13.1->torch>=2.1.0->pytorch-lightning) (1.3.0)\n",
      "Requirement already satisfied: numpy>1.20.0 in /usr/local/lib/python3.10/dist-packages (from torchmetrics>=0.7.0->pytorch-lightning) (1.26.4)\n",
      "Requirement already satisfied: aiohappyeyeballs>=2.3.0 in /usr/local/lib/python3.10/dist-packages (from aiohttp!=4.0.0a0,!=4.0.0a1->fsspec[http]>=2022.5.0->pytorch-lightning) (2.4.3)\n",
      "Requirement already satisfied: aiosignal>=1.1.2 in /usr/local/lib/python3.10/dist-packages (from aiohttp!=4.0.0a0,!=4.0.0a1->fsspec[http]>=2022.5.0->pytorch-lightning) (1.3.1)\n",
      "Requirement already satisfied: attrs>=17.3.0 in /usr/local/lib/python3.10/dist-packages (from aiohttp!=4.0.0a0,!=4.0.0a1->fsspec[http]>=2022.5.0->pytorch-lightning) (24.2.0)\n",
      "Requirement already satisfied: frozenlist>=1.1.1 in /usr/local/lib/python3.10/dist-packages (from aiohttp!=4.0.0a0,!=4.0.0a1->fsspec[http]>=2022.5.0->pytorch-lightning) (1.5.0)\n",
      "Requirement already satisfied: multidict<7.0,>=4.5 in /usr/local/lib/python3.10/dist-packages (from aiohttp!=4.0.0a0,!=4.0.0a1->fsspec[http]>=2022.5.0->pytorch-lightning) (6.1.0)\n",
      "Requirement already satisfied: propcache>=0.2.0 in /usr/local/lib/python3.10/dist-packages (from aiohttp!=4.0.0a0,!=4.0.0a1->fsspec[http]>=2022.5.0->pytorch-lightning) (0.2.0)\n",
      "Requirement already satisfied: yarl<2.0,>=1.17.0 in /usr/local/lib/python3.10/dist-packages (from aiohttp!=4.0.0a0,!=4.0.0a1->fsspec[http]>=2022.5.0->pytorch-lightning) (1.17.2)\n",
      "Requirement already satisfied: async-timeout<6.0,>=4.0 in /usr/local/lib/python3.10/dist-packages (from aiohttp!=4.0.0a0,!=4.0.0a1->fsspec[http]>=2022.5.0->pytorch-lightning) (4.0.3)\n",
      "Requirement already satisfied: MarkupSafe>=2.0 in /usr/local/lib/python3.10/dist-packages (from jinja2->torch>=2.1.0->pytorch-lightning) (3.0.2)\n",
      "Requirement already satisfied: idna>=2.0 in /usr/local/lib/python3.10/dist-packages (from yarl<2.0,>=1.17.0->aiohttp!=4.0.0a0,!=4.0.0a1->fsspec[http]>=2022.5.0->pytorch-lightning) (3.10)\n"
     ]
    }
   ],
   "source": [
    "!pip install einops\n",
    "!pip install mir_eval\n",
    "!pip install mirdata\n",
    "!pip install pytorch-lightning"
   ]
  },
  {
   "cell_type": "code",
   "execution_count": 2,
   "id": "S42fVXFZrN1j",
   "metadata": {
    "colab": {
     "base_uri": "https://localhost:8080/"
    },
    "id": "S42fVXFZrN1j",
    "outputId": "1229a8b5-50b8-4aa7-e74e-cbd3e2697e29"
   },
   "outputs": [
    {
     "name": "stdout",
     "output_type": "stream",
     "text": [
      "Drive already mounted at /content/drive; to attempt to forcibly remount, call drive.mount(\"/content/drive\", force_remount=True).\n"
     ]
    }
   ],
   "source": [
    "from google.colab import drive\n",
    "drive.mount('/content/drive')"
   ]
  },
  {
   "cell_type": "code",
   "execution_count": 3,
   "id": "45fe005e-a7e1-4610-a222-646a62e82718",
   "metadata": {
    "id": "45fe005e-a7e1-4610-a222-646a62e82718"
   },
   "outputs": [],
   "source": [
    "import mir_eval\n",
    "import mirdata\n",
    "import pandas as pd\n",
    "import pytorch_lightning as pl\n",
    "import sys\n",
    "import torch\n",
    "import torchaudio\n",
    "import yaml\n",
    "from pytorch_lightning.loggers import CSVLogger\n",
    "\n",
    "sys.path.append(\"drive/MyDrive/Colab Notebooks\")\n",
    "from visualize import plot_spectrogram, plot_metric, plot_predictions\n",
    "from utils import beat_vector_to_timestamps, calculate_bpm\n",
    "from dataset import BallroomDataset, BallroomDataModule, SAMPLE_RATE\n",
    "from model import BeatDetectionModel"
   ]
  },
  {
   "cell_type": "code",
   "execution_count": 4,
   "id": "mBSIFsBFpFcq",
   "metadata": {
    "id": "mBSIFsBFpFcq"
   },
   "outputs": [],
   "source": [
    "with open(\"drive/MyDrive/Colab Notebooks/config.yaml\", \"r\") as file:\n",
    "    config = yaml.safe_load(file)"
   ]
  },
  {
   "cell_type": "code",
   "execution_count": 5,
   "id": "AXqHtnjZ8nE0",
   "metadata": {
    "id": "AXqHtnjZ8nE0"
   },
   "outputs": [],
   "source": [
    "mirdata.initialize(\"ballroom\").download([\"index\"])"
   ]
  },
  {
   "cell_type": "markdown",
   "id": "b40b9330-25d5-4b97-bab7-4c59b3885604",
   "metadata": {
    "id": "b40b9330-25d5-4b97-bab7-4c59b3885604"
   },
   "source": [
    "## Dataset"
   ]
  },
  {
   "cell_type": "markdown",
   "id": "C7W-BWjk8VkY",
   "metadata": {
    "id": "C7W-BWjk8VkY"
   },
   "source": [
    "### Dataset description\n",
    "The dataset used in this project is the Ballroom dataset introduced by Gouyon et al. [1]. The dataset contains 698 audio recordings coupled with beat and bar annotations (provided by Krebs et al. [2]) covering various ballroom dance styles, such as Waltz, Tango, Viennese Waltz, Slow Foxtrot, Quickstep, Samba, Cha-Cha-Cha, Rumba, Paso Doble, and Jive. These annotations are provided in a format that includes beat time in seconds and beat ID, denoting the number of the beat in the bar [3].\n",
    "\n",
    "The dataset is loaded using the `mirdata` package which downloads the data and loads it from the files into numpy arrays."
   ]
  },
  {
   "cell_type": "markdown",
   "id": "iC6oYyik8cPm",
   "metadata": {
    "id": "iC6oYyik8cPm"
   },
   "source": [
    "### Preprocessing\n",
    "To increase the number of samples in the dataset and reduce the size of individual samples, each recording is split into shorter 5 second segments using a sliding window with stride of 1 second. Segments containing less than 3 beats are discarded.\n",
    "\n",
    "#### Input format\n",
    "The raw audio is converted to a frequency spectrogram - a two-dimensional representation with one dimension representing the time and the other representing frequency bins. The values indicate the intensity of the audio signal at each frequency and time step. This conversion is done using the Fast Fourier Transform (FFT). The resulting spectrograms are of shape 1x128x512 [channels x frequency_bins x time_steps].\n",
    "\n",
    "#### Output format\n",
    "The beat annotations with timestamps in seconds are converted to \"beat vectors\" - boolean arrays with one element per sample of the audio file, where 1 means that the beat occurs in that particular sample. Because the conversion to spectrogram changes the time scale of the audio, the beat vectors are then downsampled to match the length of the input spectrograms.\n",
    "\n",
    "This beat vector can then be used to detect the tempo of the music by measuring the distance between the beats and calculating how many beats on average occur per second. This number can then be easily converted to the widely used Beats per Minute (BPM) measure."
   ]
  },
  {
   "cell_type": "markdown",
   "id": "6yznOhd_8hM2",
   "metadata": {
    "id": "6yznOhd_8hM2"
   },
   "source": [
    "\n",
    "### Train-validation-test split\n",
    "The entire dataset contains 18476 samples (audio segments), split into the training, validation and testing sets in the of 12933, 3695 and 1848 samples respectively (70:20:10 ratio)."
   ]
  },
  {
   "cell_type": "code",
   "execution_count": 6,
   "id": "bfcbca4e-8042-4299-8454-c5e5a4b05ef5",
   "metadata": {
    "colab": {
     "base_uri": "https://localhost:8080/"
    },
    "id": "bfcbca4e-8042-4299-8454-c5e5a4b05ef5",
    "outputId": "d4a1db9f-c27d-4a51-b423-cb6b25f7a5ea"
   },
   "outputs": [
    {
     "name": "stdout",
     "output_type": "stream",
     "text": [
      "Processing the tracks\n"
     ]
    },
    {
     "name": "stderr",
     "output_type": "stream",
     "text": [
      "100%|██████████| 698/698 [01:23<00:00,  8.40it/s]"
     ]
    },
    {
     "name": "stdout",
     "output_type": "stream",
     "text": [
      "\n",
      "Samples in the dataset: 18476\n"
     ]
    },
    {
     "name": "stderr",
     "output_type": "stream",
     "text": [
      "\n"
     ]
    }
   ],
   "source": [
    "dataset = BallroomDataset(**config[\"data\"][\"dataset\"], validate=False)\n",
    "print(\"\\nSamples in the dataset:\", len(dataset))"
   ]
  },
  {
   "cell_type": "markdown",
   "id": "c33a791e-a7d5-4e76-90c5-a75276700c1d",
   "metadata": {
    "id": "c33a791e-a7d5-4e76-90c5-a75276700c1d"
   },
   "source": [
    "This is an example visualization of one of the samples in the dataset. The brighter the color in the spectrogram, the higher the sound intensity in that particular frequency bin. The red lines represent the beat annotations."
   ]
  },
  {
   "cell_type": "code",
   "execution_count": 7,
   "id": "01b529ac-7e29-45dc-9ae4-413cf4ddcc18",
   "metadata": {
    "colab": {
     "base_uri": "https://localhost:8080/",
     "height": 430
    },
    "id": "01b529ac-7e29-45dc-9ae4-413cf4ddcc18",
    "outputId": "2851b827-77e9-436a-a791-104154999b45"
   },
   "outputs": [
    {
     "data": {
      "image/png": "[encoded data removed]",
      "text/plain": [
       "<Figure size 1000x400 with 2 Axes>"
      ]
     },
     "metadata": {},
     "output_type": "display_data"
    }
   ],
   "source": [
    "spectrogram, beat_vector = dataset[10]\n",
    "db_transformer = torchaudio.transforms.AmplitudeToDB()\n",
    "\n",
    "plot_spectrogram(db_transformer(spectrogram.squeeze(0)), beat_vector)"
   ]
  },
  {
   "cell_type": "markdown",
   "id": "1ae811bd-d5a8-4789-b004-834a374b7211",
   "metadata": {
    "id": "1ae811bd-d5a8-4789-b004-834a374b7211"
   },
   "source": [
    "## Model\n",
    "\n",
    "The model is a combination of a convolutional neural network (CNN) and a recurrent neural network (RNN). It consists of the following layers:\n",
    "- three 2D convolutional layers which aim to extract spatial features from the spectrogram\n",
    "- three batch normalization layers that improve generalization and training stability\n",
    "- a max pooling layer to reduce the size of the output from the convolutional layers\n",
    "- a bidirectional LSTM for modeling the temporal relationships\n",
    "- a fully connected layer that maps the LSTM output to the predicted beat vector\n",
    "\n",
    "The entire \"pipeline\" of the model's layers and activation functions is as follows:\n",
    "\n",
    "input → conv1(32) → bn1 → ReLU → max_pool → conv2(64) → bn2 → ReLU → max_pool → conv3(128) → bn3 → ReLU → max_pool → lstm → fc → sigmoid → output"
   ]
  },
  {
   "cell_type": "markdown",
   "id": "65141a18-070e-420f-9b4e-c42bce8d55e3",
   "metadata": {
    "id": "65141a18-070e-420f-9b4e-c42bce8d55e3"
   },
   "source": [
    "## Training\n",
    "\n",
    "The model was trained for 5 epochs on an NVIDIA T4 GPU in the Google Colab environment. The optimizer used was AdamW with a learning rate of 0.001. The loss function minimized during training is binary cross-entropy.\n",
    "\n",
    "Because of the limited computation resources, only minimal hyperparameter tuning was done. The hyperparameters that were tuned were: hidden size of the LSTM model, sequence length of the inputs, dropout rate & the learning rate. All the hyperparameters are stored in the `config.yaml` file."
   ]
  },
  {
   "cell_type": "code",
   "execution_count": 8,
   "id": "8623fbe0-ead8-48e8-8bef-5aa5acd9c81f",
   "metadata": {
    "id": "8623fbe0-ead8-48e8-8bef-5aa5acd9c81f"
   },
   "outputs": [],
   "source": [
    "data_module = BallroomDataModule(**config[\"data\"][\"data_module\"], dataset=dataset)\n",
    "\n",
    "model = BeatDetectionModel(\n",
    "    **config[\"model\"],\n",
    "    downsample_factor=dataset.get_downsample_factor(),\n",
    "    n_freq_bins=config[\"data\"][\"dataset\"][\"n_freq_bins\"]\n",
    ")"
   ]
  },
  {
   "cell_type": "code",
   "execution_count": 9,
   "id": "LS7CWU3Vjizr",
   "metadata": {
    "colab": {
     "base_uri": "https://localhost:8080/"
    },
    "id": "LS7CWU3Vjizr",
    "outputId": "61386001-2cb7-42a8-da94-f553956a5193"
   },
   "outputs": [
    {
     "name": "stderr",
     "output_type": "stream",
     "text": [
      "INFO:pytorch_lightning.utilities.rank_zero:GPU available: True (cuda), used: True\n",
      "INFO:pytorch_lightning.utilities.rank_zero:TPU available: False, using: 0 TPU cores\n",
      "INFO:pytorch_lightning.utilities.rank_zero:HPU available: False, using: 0 HPUs\n"
     ]
    }
   ],
   "source": [
    "checkpoint_callback = pl.callbacks.ModelCheckpoint(\n",
    "    monitor=\"val_loss\",\n",
    "    dirpath=\"checkpoints\",\n",
    "    filename=\"beat_detection-{epoch:02d}-{val_loss:.2f}\",\n",
    "    save_top_k=1,\n",
    "    mode=\"min\",\n",
    "    save_last=True\n",
    ")\n",
    "\n",
    "csv_logger = CSVLogger(\"logs\", name=\"beat_detection\")\n",
    "\n",
    "trainer = pl.Trainer(max_epochs=5, accelerator=\"gpu\", callbacks=[checkpoint_callback], logger=csv_logger)"
   ]
  },
  {
   "cell_type": "code",
   "execution_count": 10,
   "id": "i0RV4sKVj6wb",
   "metadata": {
    "colab": {
     "base_uri": "https://localhost:8080/",
     "height": 555,
     "referenced_widgets": [
      "39a1147fa9944d95bf9a338b2f7f0d2e",
      "8bf4cb4bed464d47b82f3bde7b711730",
      "14f9b29b82dd4bd894a18ab4926c38f5",
      "6be9d47540474b7faca45d51a6c76705",
      "52969b1a6eb84e5aba59d5434ffe4672",
      "e33b146f13d6484e963891ff8f639c06",
      "77efe6e1cc344e7fb4f7eaa5fdb6fd10",
      "74cff3b5223b459bb8b2e67424ab2883",
      "d9b14557af7d44c1bf6cae8676ce9735",
      "a93cb852d6264eb0afde3425dcb0a047",
      "e2000416b4a3453288333d21587b7e14",
      "cadca4683cc742a4bebbbeb47d3d4e54",
      "3fc01f9517ff4f7b97ef9dc874865b33",
      "58cdcfd5ee3d4d67ba926bed8afb4750",
      "c444018f413d4b51a1e7510f5715fdaf",
      "959411d0c6414e85a420938eae8e6a4d",
      "d63e8324ad704d59b71560188e3b11ce",
      "754f8cbc02994491b516628ba9532cbc",
      "63279e253e2742779eb0001904c20f31",
      "7cc01715f0634938b31a520eedb946a6",
      "57f02730766a4c778d7508b5da8b7082",
      "593dfd23d49d47708c00b57dd01898f0",
      "18396c557be0448bad190ba952604b4d",
      "88891a64f0954d00a13d13797ddceb29",
      "98d1af24e0484863988952149c94a9c2",
      "9895d0133d5044ad80aec708fe38b441",
      "12a64df39a7446c5a25b680b4a603ef4",
      "fa82fe9e9c784684aaf6fbd5448feb4f",
      "93b138099c3d41bb939fdf8795357e5a",
      "0b534d1b01874475a66b82ef8524218b",
      "225ef5d896024a64b263d3372370be93",
      "525e3014b9d04d329395e663e29a49c3",
      "83376acbf56d494380b32e3fee87a721",
      "a7f200cdf5c94ed2a486ea314bc5afb7",
      "82134d19737145879d116a5baae7c32c",
      "02932ae8e86d4d769e47334bcafbfebb",
      "09537b03f63d41b98ecd2f0156f86999",
      "9be9ff240d3a4d169fdaf572d1741416",
      "7f5c82d675b5438986bde1717cdbd83d",
      "2d527fa22c524de49f6f85e8ddd99024",
      "792f8a2f83e54fb6a36096f438dfa36f",
      "0a119d7271a346c59c3fae80f8655452",
      "39ea48d4169f4a5cb5a0b718e1921da9",
      "32c95039202c4ee7bc860a8390acd262",
      "d9b04fc3a8aa47ff9e0a6beb34db1750",
      "8597a98fe8e548be8764f43d4ea2dbf8",
      "568deaa6b0bf49bf9c412500a32e5c40",
      "481274726ea64564aaedf83d6d60bf68",
      "597c427b9aff44b1be5abdb3a823f0a1",
      "3c8d140950b34d6cb7b60a95e3f077a7",
      "76a2eeb73aaa45ada29bc7e2b656f2c6",
      "c979865b5ef54707adee4acf3993cac6",
      "a213164f11f644529c4b0ef75d2fb24d",
      "055f96f231bd4b23aea3fc42335b12ed",
      "5d0ae373d1644b96b0bd76cdfb4ce935",
      "98893cb7bcf6462183722ea4a6c87d49",
      "49477a1542f74083a0c75f62e35fc210",
      "e6caabd96f25465abb2c5553089f19af",
      "17840977d34c4291bff4fd519cdf5317",
      "9841a30407974009aa0a09e34a231214",
      "f1c572c7bcb54fc8959f0a4776ab24ce",
      "20569fa2fb7d4227bff2f9d9b11265ef",
      "c46ed2f3feba4237aeda4882284edb2e",
      "71a623ee8b2042c6931b58265915d953",
      "0ee1e72210ba4a749585bbec14455e01",
      "7e3534ef672545f59700486059b93b10",
      "99964f93d43b44a685a4a52afbf0cea5",
      "84be9651938f4d658a75afa6e6f5fe42",
      "2aec18a1fac947c78dab0c894c7e00f3",
      "b199b88f0a05451c810effb9bbb5e38c",
      "fc18036c050c4fdd93418465f01b9ca5",
      "2e81039bf92c43989b752859767de68e",
      "4b573e6731b54334b30402d82a696717",
      "9df78d9b7e17447889d0eeda114c666b",
      "0cf05ca3619347d9917fd765be1a2a97",
      "6b6d3c3a989845928c26337d27f0494e",
      "35e600e944fe4760ab599baad87055e6"
     ]
    },
    "id": "i0RV4sKVj6wb",
    "outputId": "8b6074fd-f639-4040-c273-93b836b48f07"
   },
   "outputs": [
    {
     "name": "stderr",
     "output_type": "stream",
     "text": [
      "/usr/local/lib/python3.10/dist-packages/pytorch_lightning/callbacks/model_checkpoint.py:654: Checkpoint directory /content/checkpoints exists and is not empty.\n",
      "INFO:pytorch_lightning.accelerators.cuda:LOCAL_RANK: 0 - CUDA_VISIBLE_DEVICES: [0]\n",
      "INFO:pytorch_lightning.callbacks.model_summary:\n",
      "   | Name    | Type        | Params | Mode \n",
      "-------------------------------------------------\n",
      "0  | loss    | BCELoss     | 0      | train\n",
      "1  | conv1   | Conv2d      | 320    | train\n",
      "2  | bn1     | BatchNorm2d | 64     | train\n",
      "3  | conv2   | Conv2d      | 18.5 K | train\n",
      "4  | bn2     | BatchNorm2d | 128    | train\n",
      "5  | conv3   | Conv2d      | 73.9 K | train\n",
      "6  | bn3     | BatchNorm2d | 256    | train\n",
      "7  | pool    | MaxPool2d   | 0      | train\n",
      "8  | lstm    | LSTM        | 6.3 M  | train\n",
      "9  | dropout | Dropout     | 0      | train\n",
      "10 | fc      | Linear      | 513    | train\n",
      "-------------------------------------------------\n",
      "6.4 M     Trainable params\n",
      "0         Non-trainable params\n",
      "6.4 M     Total params\n",
      "25.573    Total estimated model params size (MB)\n",
      "11        Modules in train mode\n",
      "0         Modules in eval mode\n"
     ]
    },
    {
     "data": {
      "application/vnd.jupyter.widget-view+json": {
       "model_id": "39a1147fa9944d95bf9a338b2f7f0d2e",
       "version_major": 2,
       "version_minor": 0
      },
      "text/plain": [
       "Sanity Checking: |          | 0/? [00:00<?, ?it/s]"
      ]
     },
     "metadata": {},
     "output_type": "display_data"
    },
    {
     "data": {
      "application/vnd.jupyter.widget-view+json": {
       "model_id": "cadca4683cc742a4bebbbeb47d3d4e54",
       "version_major": 2,
       "version_minor": 0
      },
      "text/plain": [
       "Training: |          | 0/? [00:00<?, ?it/s]"
      ]
     },
     "metadata": {},
     "output_type": "display_data"
    },
    {
     "data": {
      "application/vnd.jupyter.widget-view+json": {
       "model_id": "18396c557be0448bad190ba952604b4d",
       "version_major": 2,
       "version_minor": 0
      },
      "text/plain": [
       "Validation: |          | 0/? [00:00<?, ?it/s]"
      ]
     },
     "metadata": {},
     "output_type": "display_data"
    },
    {
     "name": "stderr",
     "output_type": "stream",
     "text": [
      "/usr/local/lib/python3.10/dist-packages/mir_eval/beat.py:93: UserWarning: Estimated beats are empty.\n",
      "  warnings.warn(\"Estimated beats are empty.\")\n",
      "/usr/local/lib/python3.10/dist-packages/mir_eval/beat.py:464: UserWarning: Only one estimated beat was provided, so beat intervals cannot be computed.\n",
      "  warnings.warn(\"Only one estimated beat was provided, so beat intervals\"\n"
     ]
    },
    {
     "data": {
      "application/vnd.jupyter.widget-view+json": {
       "model_id": "a7f200cdf5c94ed2a486ea314bc5afb7",
       "version_major": 2,
       "version_minor": 0
      },
      "text/plain": [
       "Validation: |          | 0/? [00:00<?, ?it/s]"
      ]
     },
     "metadata": {},
     "output_type": "display_data"
    },
    {
     "data": {
      "application/vnd.jupyter.widget-view+json": {
       "model_id": "d9b04fc3a8aa47ff9e0a6beb34db1750",
       "version_major": 2,
       "version_minor": 0
      },
      "text/plain": [
       "Validation: |          | 0/? [00:00<?, ?it/s]"
      ]
     },
     "metadata": {},
     "output_type": "display_data"
    },
    {
     "data": {
      "application/vnd.jupyter.widget-view+json": {
       "model_id": "98893cb7bcf6462183722ea4a6c87d49",
       "version_major": 2,
       "version_minor": 0
      },
      "text/plain": [
       "Validation: |          | 0/? [00:00<?, ?it/s]"
      ]
     },
     "metadata": {},
     "output_type": "display_data"
    },
    {
     "data": {
      "application/vnd.jupyter.widget-view+json": {
       "model_id": "99964f93d43b44a685a4a52afbf0cea5",
       "version_major": 2,
       "version_minor": 0
      },
      "text/plain": [
       "Validation: |          | 0/? [00:00<?, ?it/s]"
      ]
     },
     "metadata": {},
     "output_type": "display_data"
    },
    {
     "name": "stderr",
     "output_type": "stream",
     "text": [
      "INFO:pytorch_lightning.utilities.rank_zero:`Trainer.fit` stopped: `max_epochs=5` reached.\n"
     ]
    }
   ],
   "source": [
    "trainer.fit(model, data_module)"
   ]
  },
  {
   "cell_type": "markdown",
   "id": "xNrmJ5GTKbz2",
   "metadata": {
    "id": "xNrmJ5GTKbz2"
   },
   "source": [
    "Let's visualize the evolution of the validation loss throughout the training process."
   ]
  },
  {
   "cell_type": "code",
   "execution_count": 11,
   "id": "JWOXA-iZHdjv",
   "metadata": {
    "colab": {
     "base_uri": "https://localhost:8080/",
     "height": 427
    },
    "id": "JWOXA-iZHdjv",
    "outputId": "330735e1-f444-4ee4-c48f-532c30cb17db"
   },
   "outputs": [
    {
     "data": {
      "image/png": "[encoded data removed]",
      "text/plain": [
       "<Figure size 700x400 with 1 Axes>"
      ]
     },
     "metadata": {},
     "output_type": "display_data"
    }
   ],
   "source": [
    "log_dir = csv_logger.log_dir\n",
    "metrics_file = f\"{log_dir}/metrics.csv\"\n",
    "\n",
    "metrics_df = pd.read_csv(metrics_file)\n",
    "df_val_loss = metrics_df[metrics_df[\"val_loss\"].notna()]\n",
    "\n",
    "plot_metric(df_val_loss[\"val_loss\"], \"Loss\", \"Validation loss\")"
   ]
  },
  {
   "cell_type": "markdown",
   "id": "d1fb2b87-0f4e-4ee3-9ccb-6800d887d0c8",
   "metadata": {
    "id": "d1fb2b87-0f4e-4ee3-9ccb-6800d887d0c8"
   },
   "source": [
    "## Visualization of results\n",
    "\n",
    "With the trained model, we can visualize the predictions and see how accurate our model is."
   ]
  },
  {
   "cell_type": "code",
   "execution_count": 14,
   "id": "Yjsh7VITjqyQ",
   "metadata": {
    "colab": {
     "base_uri": "https://localhost:8080/"
    },
    "id": "Yjsh7VITjqyQ",
    "outputId": "0c5e17f0-3542-4c2d-f117-e27b8903590c"
   },
   "outputs": [
    {
     "name": "stderr",
     "output_type": "stream",
     "text": [
      "<ipython-input-14-1e9c179220c1>:1: FutureWarning: You are using `torch.load` with `weights_only=False` (the current default value), which uses the default pickle module implicitly. It is possible to construct malicious pickle data which will execute arbitrary code during unpickling (See https://github.com/pytorch/pytorch/blob/main/SECURITY.md#untrusted-models for more details). In a future release, the default value for `weights_only` will be flipped to `True`. This limits the functions that could be executed during unpickling. Arbitrary objects will no longer be allowed to be loaded via this mode unless they are explicitly allowlisted by the user via `torch.serialization.add_safe_globals`. We recommend you start setting `weights_only=True` for any use case where you don't have full control of the loaded file. Please open an issue on GitHub for any issues related to this experimental feature.\n",
      "  checkpoint = torch.load(\"checkpoints/last-v1.ckpt\")\n"
     ]
    },
    {
     "data": {
      "text/plain": [
       "BeatDetectionModel(\n",
       "  (loss): BCELoss()\n",
       "  (conv1): Conv2d(1, 32, kernel_size=(3, 3), stride=(1, 1), padding=(1, 1))\n",
       "  (bn1): BatchNorm2d(32, eps=1e-05, momentum=0.1, affine=True, track_running_stats=True)\n",
       "  (conv2): Conv2d(32, 64, kernel_size=(3, 3), stride=(1, 1), padding=(1, 1))\n",
       "  (bn2): BatchNorm2d(64, eps=1e-05, momentum=0.1, affine=True, track_running_stats=True)\n",
       "  (conv3): Conv2d(64, 128, kernel_size=(3, 3), stride=(1, 1), padding=(1, 1))\n",
       "  (bn3): BatchNorm2d(128, eps=1e-05, momentum=0.1, affine=True, track_running_stats=True)\n",
       "  (pool): MaxPool2d(kernel_size=(2, 1), stride=(2, 1), padding=0, dilation=1, ceil_mode=False)\n",
       "  (lstm): LSTM(2048, 256, num_layers=2, batch_first=True, bidirectional=True)\n",
       "  (dropout): Dropout(p=0, inplace=False)\n",
       "  (fc): Linear(in_features=512, out_features=1, bias=True)\n",
       ")"
      ]
     },
     "execution_count": 14,
     "metadata": {},
     "output_type": "execute_result"
    }
   ],
   "source": [
    "checkpoint = torch.load(\"checkpoints/last-v1.ckpt\")\n",
    "model.load_state_dict(checkpoint[\"state_dict\"])\n",
    "model.eval()"
   ]
  },
  {
   "cell_type": "markdown",
   "id": "zWhVxmkGk29t",
   "metadata": {
    "id": "zWhVxmkGk29t"
   },
   "source": [
    "This is an example visualization of one of the test samples. The red lines represent the ground trouth beat annotations and the blue curve represents the probability of a beat occuring in each timestep."
   ]
  },
  {
   "cell_type": "code",
   "execution_count": 60,
   "id": "3Tab9IP2h6Wd",
   "metadata": {
    "colab": {
     "base_uri": "https://localhost:8080/",
     "height": 492
    },
    "id": "3Tab9IP2h6Wd",
    "outputId": "4335180a-51b8-487d-e18d-8e8b1be8269b"
   },
   "outputs": [
    {
     "data": {
      "image/png": "[encoded data removed]",
      "text/plain": [
       "<Figure size 640x480 with 1 Axes>"
      ]
     },
     "metadata": {},
     "output_type": "display_data"
    }
   ],
   "source": [
    "input, ground_truth = data_module.test_dataset[948]\n",
    "pred = model(input.unsqueeze(0)).squeeze(0).detach().numpy()\n",
    "\n",
    "plot_predictions(ground_truth, pred, title=\"Prediction vs. ground truth (test sample 948)\")"
   ]
  },
  {
   "cell_type": "markdown",
   "id": "l2refYnkk84u",
   "metadata": {
    "id": "l2refYnkk84u"
   },
   "source": [
    "The model detected the beats fairly well, we can see that the spikes line up quite nicely with the ground truth beats. However, the probability of the predicted beats is fairly low, only ranging between 0.4 and 0.6.\n",
    "\n",
    "But to not cherrypick a nice example, let's look at a different sample from the test dataset."
   ]
  },
  {
   "cell_type": "code",
   "execution_count": 52,
   "id": "Gc4xhE5Yil5l",
   "metadata": {
    "colab": {
     "base_uri": "https://localhost:8080/",
     "height": 492
    },
    "id": "Gc4xhE5Yil5l",
    "outputId": "d9e5c60a-348d-48c1-fcdc-b9c785dbd99b"
   },
   "outputs": [
    {
     "data": {
      "image/png": "[encoded data removed]",
      "text/plain": [
       "<Figure size 640x480 with 1 Axes>"
      ]
     },
     "metadata": {},
     "output_type": "display_data"
    }
   ],
   "source": [
    "input2, ground_truth2 = data_module.test_dataset[1748]\n",
    "pred2 = model(input2.unsqueeze(0)).squeeze(0).detach().numpy()\n",
    "\n",
    "plot_predictions(ground_truth2, pred2, title=\"Prediction vs. ground truth (test sample 1748)\")"
   ]
  },
  {
   "cell_type": "markdown",
   "id": "4_1X6KHJmH1z",
   "metadata": {
    "id": "4_1X6KHJmH1z"
   },
   "source": [
    "Here the model predicted most of the beats in between the ground truth beats.\n",
    "\n",
    "This example is interesting as sometimes it's not clear how the beats (or the tempo) of the music should be felt and it might be \"valid\" to feel the beats in between other beats. As will be discussed in the next section, some metrics take this into account and would classify the predicted beats as correct."
   ]
  },
  {
   "cell_type": "markdown",
   "id": "d0e6151d-d164-4524-b1f9-fdf56951099b",
   "metadata": {
    "id": "d0e6151d-d164-4524-b1f9-fdf56951099b"
   },
   "source": [
    "## Evaluation\n",
    "\n",
    "The problem of creating our binary beat vector could be viewed as a binary classification problem where we try to predict 1 or 0 for each time step. However, we cannot simply use binary classification metrics because they do not take the temporal information into account. What it means is that we need to consider whether a beat was correctly predicted but also how far off in time the prediction is from the ground truth.\n",
    "\n",
    "Before evaluating our network on the test dataset, let's look at the metrics we will use to judge the quality of our predictions.\n",
    "\n",
    "All the metrics from the `mir_eval` package work with the timestamp format so we need to convert the beat vectors back to timestamps. For the predictions, the vector is binarized at a certain threshold (if the probability is > threshold, the time step is considered as a beat) to get the predicted beats. Since the segments were downsampled during the FFT, the conversion back has to take the downsample rate into account."
   ]
  },
  {
   "cell_type": "markdown",
   "id": "466ee317-adc0-4236-b750-a6e71dd16313",
   "metadata": {},
   "source": [
    "As an example, we will use the first test sample from the section above."
   ]
  },
  {
   "cell_type": "code",
   "execution_count": 68,
   "id": "spWZjX1ew6ur",
   "metadata": {
    "id": "spWZjX1ew6ur"
   },
   "outputs": [],
   "source": [
    "downsample_factor = dataset.get_downsample_factor()\n",
    "ground_truth_ts = beat_vector_to_timestamps(ground_truth, SAMPLE_RATE // downsample_factor)\n",
    "pred_ts = beat_vector_to_timestamps(pred, SAMPLE_RATE // downsample_factor)"
   ]
  },
  {
   "cell_type": "markdown",
   "id": "U0n0H0gxr6mD",
   "metadata": {
    "id": "U0n0H0gxr6mD"
   },
   "source": [
    "### F-measure with tolerance window\n",
    "\n",
    "The first metric is **F-measure with tolerance window**, a commonly used metric for evaluating beat tracking [4].\n",
    "\n",
    "<div>\n",
    "<img src=\"img/fmeasure.png\" width=\"1000\"/>\n",
    "</div>\n",
    "\n",
    "For each beat in the ground truth vector it takse a tolerance window (usually +/- 70 ms) and then finds whether there are any beats in these tolerance windows in the predicted vector.\n",
    "\n",
    "Beats that uniquely fall into these tolerance windows are true positives (or hits). Any additional beats in each tolerance window, or those outside of any tolerance window, counted as false positives.\n",
    "\n",
    "Finally, any empty tolerance windows with no beats are counted as false negatives.\n",
    "\n",
    "With these three quantities we can calculate the precision and recall and in turn the F-measure."
   ]
  },
  {
   "cell_type": "code",
   "execution_count": 69,
   "id": "NTAHr2SzuMQI",
   "metadata": {
    "colab": {
     "base_uri": "https://localhost:8080/"
    },
    "id": "NTAHr2SzuMQI",
    "outputId": "1391e606-e515-41c9-dc24-18b98a36f24f"
   },
   "outputs": [
    {
     "name": "stdout",
     "output_type": "stream",
     "text": [
      "F-measure: 1.0\n"
     ]
    }
   ],
   "source": [
    "print(\"F-measure:\", round(mir_eval.beat.f_measure(ground_truth_ts, pred_ts), 3))"
   ]
  },
  {
   "cell_type": "markdown",
   "id": "IUQxC3bLtA71",
   "metadata": {
    "id": "IUQxC3bLtA71"
   },
   "source": [
    "### Cemgil score\n",
    "\n",
    "One disadvantage of the F-measure is that the beats are considered accurate if they fall into the tolerance window, no matter how far from the actual beat they lie.\n",
    "\n",
    "**Cemgil score** addresses this and replaces the tolerance windows with a Gaussian placed around each beat. Therefore, the further off the predicted beats are, they more they are penalized.\n",
    "\n",
    "<div>\n",
    "<img src=\"img/cemgil.png\" width=\"1000\"/>\n",
    "</div>"
   ]
  },
  {
   "cell_type": "code",
   "execution_count": 70,
   "id": "eH_keWOYuHJb",
   "metadata": {
    "colab": {
     "base_uri": "https://localhost:8080/"
    },
    "id": "eH_keWOYuHJb",
    "outputId": "14538e28-c7b8-41d7-be43-e7bc708e328f"
   },
   "outputs": [
    {
     "name": "stdout",
     "output_type": "stream",
     "text": [
      "Cemgil: 0.982\n"
     ]
    }
   ],
   "source": [
    "print(\"Cemgil:\", round(mir_eval.beat.cemgil(ground_truth_ts, pred_ts)[0], 3))"
   ]
  },
  {
   "cell_type": "markdown",
   "id": "Ns_9ej-wudaG",
   "metadata": {
    "id": "Ns_9ej-wudaG"
   },
   "source": [
    "### Continuity\n",
    "\n",
    "Both the F-measure and the Cemgil score treat each beat independently and therefore ignore that the beats should occur in regular intervals.\n",
    "\n",
    "**Continuity-based evaluation** only considers beat $i$ to be accurate if it falls within the tolerance window and beat $i-1$ also falls within its respective tolerance window. Additionaly, it is required that the inter-beat-interval also be consistent with the inter-annotation-intereval. [4]\n",
    "\n",
    "It can also take into account situations where the predicted beats occur twice as fast, twice slower or in between the ground truth beats (off-beat).\n",
    "\n",
    "These approaches output a total of four different metrics based on how exactly is the score calculated. The \"A\" scores consider different \"allowed\" placements of the beats (such as the beats occuring twice as fast), whereas the \"C\" scores only allow the \"correct\" (annotated beats). The \"c\" scores then calculate the ratio of the longest continuously correct segment to the length of the sample and the \"t\" calculate the ratio of the total of continuous segments to the length of the sample.\n",
    "\n",
    "More details about these scores can be found in [4]."
   ]
  },
  {
   "cell_type": "code",
   "execution_count": 71,
   "id": "iOFEvF8DyBXs",
   "metadata": {
    "colab": {
     "base_uri": "https://localhost:8080/"
    },
    "id": "iOFEvF8DyBXs",
    "outputId": "5de7e44b-d1c7-4ca3-dfa9-1309ca7e1a6f"
   },
   "outputs": [
    {
     "name": "stdout",
     "output_type": "stream",
     "text": [
      "{'CMLc': 1.0, 'CMLt': 1.0, 'AMLc': 1.0, 'AMLt': 1.0}\n"
     ]
    }
   ],
   "source": [
    "print({m:v for m,v in zip([\"CMLc\", \"CMLt\", \"AMLc\", \"AMLt\"], mir_eval.beat.continuity(ground_truth_ts, pred_ts))})"
   ]
  },
  {
   "cell_type": "markdown",
   "id": "kt7oO_EwuftE",
   "metadata": {
    "id": "kt7oO_EwuftE"
   },
   "source": [
    "### Evaluating the test dataset\n",
    "\n",
    "Now that we know the metrics, we can evaluate the model's performance on the entire test dataset."
   ]
  },
  {
   "cell_type": "code",
   "execution_count": 63,
   "id": "cE2fQw2L-v5-",
   "metadata": {
    "colab": {
     "base_uri": "https://localhost:8080/",
     "height": 349,
     "referenced_widgets": [
      "f79c5460eac349d6970adbe78d30dfbc",
      "d0a3706d10054328ad112b49f48fb93b",
      "d9d4433006834feb94cd386a92eacf19",
      "36f3e86c3d0c4187aac0998aa391d041",
      "8a620d93b8cf4a9a8d1c4e3218cecd20",
      "0e3386e21a5e46b288c911aa1671ab15",
      "d286b43d2d864637b6f2977da21fd757",
      "9cd35e00c75f4dc68f2ec2e0270d3e24",
      "afa6a5ad975747f594659fbd2fe7073e",
      "6dae34ee30114d1eb5f2a9ce4b8cf7c6",
      "36d022e7e1974f118480b6157d82aa7f"
     ]
    },
    "id": "cE2fQw2L-v5-",
    "outputId": "41aeee3d-e613-4362-f9fe-f77af1be579b"
   },
   "outputs": [
    {
     "name": "stderr",
     "output_type": "stream",
     "text": [
      "INFO:pytorch_lightning.accelerators.cuda:LOCAL_RANK: 0 - CUDA_VISIBLE_DEVICES: [0]\n"
     ]
    },
    {
     "data": {
      "application/vnd.jupyter.widget-view+json": {
       "model_id": "f79c5460eac349d6970adbe78d30dfbc",
       "version_major": 2,
       "version_minor": 0
      },
      "text/plain": [
       "Testing: |          | 0/? [00:00<?, ?it/s]"
      ]
     },
     "metadata": {},
     "output_type": "display_data"
    },
    {
     "name": "stderr",
     "output_type": "stream",
     "text": [
      "/usr/local/lib/python3.10/dist-packages/mir_eval/beat.py:93: UserWarning: Estimated beats are empty.\n",
      "  warnings.warn(\"Estimated beats are empty.\")\n",
      "/usr/local/lib/python3.10/dist-packages/mir_eval/beat.py:464: UserWarning: Only one estimated beat was provided, so beat intervals cannot be computed.\n",
      "  warnings.warn(\"Only one estimated beat was provided, so beat intervals\"\n"
     ]
    },
    {
     "data": {
      "text/html": [
       "<pre style=\"white-space:pre;overflow-x:auto;line-height:normal;font-family:Menlo,'DejaVu Sans Mono',consolas,'Courier New',monospace\">┏━━━━━━━━━━━━━━━━━━━━━━━━━━━┳━━━━━━━━━━━━━━━━━━━━━━━━━━━┓\n",
       "┃<span style=\"font-weight: bold\">        Test metric        </span>┃<span style=\"font-weight: bold\">       DataLoader 0        </span>┃\n",
       "┡━━━━━━━━━━━━━━━━━━━━━━━━━━━╇━━━━━━━━━━━━━━━━━━━━━━━━━━━┩\n",
       "│<span style=\"color: #008080; text-decoration-color: #008080\">           AMLc            </span>│<span style=\"color: #800080; text-decoration-color: #800080\">    0.2953147292137146     </span>│\n",
       "│<span style=\"color: #008080; text-decoration-color: #008080\">           AMLt            </span>│<span style=\"color: #800080; text-decoration-color: #800080\">    0.3746969401836395     </span>│\n",
       "│<span style=\"color: #008080; text-decoration-color: #008080\">           CMLc            </span>│<span style=\"color: #800080; text-decoration-color: #800080\">    0.22941723465919495    </span>│\n",
       "│<span style=\"color: #008080; text-decoration-color: #008080\">           CMLt            </span>│<span style=\"color: #800080; text-decoration-color: #800080\">    0.29913774132728577    </span>│\n",
       "│<span style=\"color: #008080; text-decoration-color: #008080\">          Cemgil           </span>│<span style=\"color: #800080; text-decoration-color: #800080\">    0.5020634531974792     </span>│\n",
       "│<span style=\"color: #008080; text-decoration-color: #008080\">         F-measure         </span>│<span style=\"color: #800080; text-decoration-color: #800080\">    0.5169057250022888     </span>│\n",
       "│<span style=\"color: #008080; text-decoration-color: #008080\">         test_loss         </span>│<span style=\"color: #800080; text-decoration-color: #800080\">    0.05048079043626785    </span>│\n",
       "└───────────────────────────┴───────────────────────────┘\n",
       "</pre>\n"
      ],
      "text/plain": [
       "┏━━━━━━━━━━━━━━━━━━━━━━━━━━━┳━━━━━━━━━━━━━━━━━━━━━━━━━━━┓\n",
       "┃\u001B[1m \u001B[0m\u001B[1m       Test metric       \u001B[0m\u001B[1m \u001B[0m┃\u001B[1m \u001B[0m\u001B[1m      DataLoader 0       \u001B[0m\u001B[1m \u001B[0m┃\n",
       "┡━━━━━━━━━━━━━━━━━━━━━━━━━━━╇━━━━━━━━━━━━━━━━━━━━━━━━━━━┩\n",
       "│\u001B[36m \u001B[0m\u001B[36m          AMLc           \u001B[0m\u001B[36m \u001B[0m│\u001B[35m \u001B[0m\u001B[35m   0.2953147292137146    \u001B[0m\u001B[35m \u001B[0m│\n",
       "│\u001B[36m \u001B[0m\u001B[36m          AMLt           \u001B[0m\u001B[36m \u001B[0m│\u001B[35m \u001B[0m\u001B[35m   0.3746969401836395    \u001B[0m\u001B[35m \u001B[0m│\n",
       "│\u001B[36m \u001B[0m\u001B[36m          CMLc           \u001B[0m\u001B[36m \u001B[0m│\u001B[35m \u001B[0m\u001B[35m   0.22941723465919495   \u001B[0m\u001B[35m \u001B[0m│\n",
       "│\u001B[36m \u001B[0m\u001B[36m          CMLt           \u001B[0m\u001B[36m \u001B[0m│\u001B[35m \u001B[0m\u001B[35m   0.29913774132728577   \u001B[0m\u001B[35m \u001B[0m│\n",
       "│\u001B[36m \u001B[0m\u001B[36m         Cemgil          \u001B[0m\u001B[36m \u001B[0m│\u001B[35m \u001B[0m\u001B[35m   0.5020634531974792    \u001B[0m\u001B[35m \u001B[0m│\n",
       "│\u001B[36m \u001B[0m\u001B[36m        F-measure        \u001B[0m\u001B[36m \u001B[0m│\u001B[35m \u001B[0m\u001B[35m   0.5169057250022888    \u001B[0m\u001B[35m \u001B[0m│\n",
       "│\u001B[36m \u001B[0m\u001B[36m        test_loss        \u001B[0m\u001B[36m \u001B[0m│\u001B[35m \u001B[0m\u001B[35m   0.05048079043626785   \u001B[0m\u001B[35m \u001B[0m│\n",
       "└───────────────────────────┴───────────────────────────┘\n"
      ]
     },
     "metadata": {},
     "output_type": "display_data"
    },
    {
     "name": "stdout",
     "output_type": "stream",
     "text": [
      "{'F-measure': 0.5169057250022888, 'Cemgil': 0.5020634531974792, 'CMLc': 0.22941723465919495, 'CMLt': 0.29913774132728577, 'AMLc': 0.2953147292137146, 'AMLt': 0.3746969401836395, 'test_loss': 0.05048079043626785}\n"
     ]
    }
   ],
   "source": [
    "res = trainer.test(model, data_module)\n",
    "print(res[0])"
   ]
  },
  {
   "cell_type": "markdown",
   "id": "tQ1231oIAkYl",
   "metadata": {
    "id": "tQ1231oIAkYl"
   },
   "source": [
    "The average F-measure and Cemgil scores are only around 0.51. One cause of this might be that the model is predicting the beats in the correct places but with low probability and the binarization leaves out a lot of the beats.\n",
    "\n",
    "The continuity scores are even worse likely because of the same reason. If some of the predicted beats don't have a high enough probability, they aren't included in the predicted timestamps and therefore the regularity of the beats is not very high.\n",
    "\n",
    "The \"A\" continuity scores are higher than their \"C\" counterparts. This means that our model sometimes chooses different \"allowed\" placements of the beats compared to the annotated beats. We have seen this in one of the visualized examples above.\n",
    "\n",
    "Similarly, the \"t\" continuity scores are higher than the \"c\" scores which means that the model has problems with predicting countinously correct segments, likely because of the issue mentioned above."
   ]
  },
  {
   "cell_type": "markdown",
   "id": "c48ead2a-6f4c-4e36-a30b-c6575f816f34",
   "metadata": {
    "id": "c48ead2a-6f4c-4e36-a30b-c6575f816f34"
   },
   "source": [
    "## Tempo calculation\n",
    "\n",
    "Finally, we can use the beat vectors to calculate the tempo of the song (or the musical segment). We calculate the intervals between the beats and take a median interval (we could have also used mean). The BPM is then calculted as 60 / median_interval."
   ]
  },
  {
   "cell_type": "code",
   "execution_count": 72,
   "id": "A3rj4t8cgjw1",
   "metadata": {
    "colab": {
     "base_uri": "https://localhost:8080/"
    },
    "id": "A3rj4t8cgjw1",
    "outputId": "7ad2e105-5ea5-40e8-db0a-00075c844f54"
   },
   "outputs": [
    {
     "name": "stdout",
     "output_type": "stream",
     "text": [
      "Ground truth BPM: 100\n",
      "Predicted BPM: 99\n"
     ]
    }
   ],
   "source": [
    "print(\"Ground truth BPM:\", round(calculate_bpm(ground_truth_ts)))\n",
    "print(\"Predicted BPM:\", round(calculate_bpm(pred_ts)))"
   ]
  },
  {
   "cell_type": "markdown",
   "id": "0131a4b7-bbc9-4ee8-bcc8-c322593afe6f",
   "metadata": {
    "id": "0131a4b7-bbc9-4ee8-bcc8-c322593afe6f"
   },
   "source": [
    "## Discussion\n",
    "\n",
    "This project as presented has numerous limitations and shortcomings which could be hindering the performance of model or otherwise affecting the results and their interpretation.\n",
    "\n",
    "1.   The preprocessing might cause some noise in the data. Since the precise beat annotations from the dataset are downsampled using max pooling, the timestamps of the beats might shift slightly from their original positions.\n",
    "\n",
    "2.   The project only uses spectrograms as an input format. While the spectrograms, which are essentially image representations of the audio, work well with the convolutional layers, it would be interesting to use other audio \"formats\" such as Chroma features or MFCCs. These could be used as different channels and passed into a single network or perhaps given to different models each tailored to the specific format and then all these models could be ensembled to make the final predictions.\n",
    "\n",
    "3.   Given the limited compute time provided by Google Colab, the hyperparameters were tuned very minimally. More thorough tuning could perhaps yield better results.\n",
    "\n",
    "4.   The model architecture could be modified to better extract the periodic patterns of the beats, perhaps using the self-attention mechanism.\n",
    "\n",
    "5.   Alternatively, the periodicity of the beats could be enforced through loss engineering by adding a loss term that penalizes if the beats don't occur at consistent intervals.\n",
    "\n",
    "6.   The evaluation only considers a single mean score over the test set for each metrics. For more insight, it could be interesting to plot the performance over different binarization thresholds and tolerance windows."
   ]
  },
  {
   "cell_type": "markdown",
   "id": "23514b9d-a790-4661-9369-bfe97dfac537",
   "metadata": {
    "id": "23514b9d-a790-4661-9369-bfe97dfac537"
   },
   "source": [
    "## References\n",
    "\n",
    "[1] Gouyon F., A. Klapuri, S. Dixon, M. Alonso, G. Tzanetakis, C. Uhle, and P. Cano. An experimental comparison of audio tempo induction algorithms. Transactions on Audio, Speech and Language Processing 14(5), pp.1832-1844, 2006.\n",
    "\n",
    "[2] F. Krebs, S. Böck, and G. Widmer. Rhythmic Pattern Modeling for Beat and Downbeat Tracking in Musical Audio. Proceedings of the 14th International Society for Music Information Retrieval Conference (ISMIR), Curitiba, Brazil, 2013.\n",
    "\n",
    "[3] Documentation for Mirdata package. https://mirdata.readthedocs.io/en/latest/source/mirdata.html#module-mirdata.datasets.ballroom\n",
    "\n",
    "[4] Matthew E. P. Davies, Sebastian Böck, Magdalena Fuentes. Tempo, Beat and Downbeat Estimation. https://tempobeatdownbeat.github.io/tutorial/ch2_basics/evaluate.html\n"
   ]
  }
 ],
 "metadata": {
  "accelerator": "GPU",
  "colab": {
   "gpuType": "T4",
   "provenance": []
  },
  "kernelspec": {
   "display_name": "Python 3 (ipykernel)",
   "language": "python",
   "name": "python3"
  },
  "language_info": {
   "codemirror_mode": {
    "name": "ipython",
    "version": 3
   },
   "file_extension": ".py",
   "mimetype": "text/x-python",
   "name": "python",
   "nbconvert_exporter": "python",
   "pygments_lexer": "ipython3",
   "version": "3.10.11"
  },
  "widgets": {
   "application/vnd.jupyter.widget-state+json": {
    "02932ae8e86d4d769e47334bcafbfebb": {
     "model_module": "@jupyter-widgets/controls",
     "model_module_version": "1.5.0",
     "model_name": "FloatProgressModel",
     "state": {
      "_dom_classes": [],
      "_model_module": "@jupyter-widgets/controls",
      "_model_module_version": "1.5.0",
      "_model_name": "FloatProgressModel",
      "_view_count": null,
      "_view_module": "@jupyter-widgets/controls",
      "_view_module_version": "1.5.0",
      "_view_name": "ProgressView",
      "bar_style": "",
      "description": "",
      "description_tooltip": null,
      "layout": "IPY_MODEL_792f8a2f83e54fb6a36096f438dfa36f",
      "max": 231,
      "min": 0,
      "orientation": "horizontal",
      "style": "IPY_MODEL_0a119d7271a346c59c3fae80f8655452",
      "value": 231
     }
    },
    "055f96f231bd4b23aea3fc42335b12ed": {
     "model_module": "@jupyter-widgets/base",
     "model_module_version": "1.2.0",
     "model_name": "LayoutModel",
     "state": {
      "_model_module": "@jupyter-widgets/base",
      "_model_module_version": "1.2.0",
      "_model_name": "LayoutModel",
      "_view_count": null,
      "_view_module": "@jupyter-widgets/base",
      "_view_module_version": "1.2.0",
      "_view_name": "LayoutView",
      "align_content": null,
      "align_items": null,
      "align_self": null,
      "border": null,
      "bottom": null,
      "display": null,
      "flex": null,
      "flex_flow": null,
      "grid_area": null,
      "grid_auto_columns": null,
      "grid_auto_flow": null,
      "grid_auto_rows": null,
      "grid_column": null,
      "grid_gap": null,
      "grid_row": null,
      "grid_template_areas": null,
      "grid_template_columns": null,
      "grid_template_rows": null,
      "height": null,
      "justify_content": null,
      "justify_items": null,
      "left": null,
      "margin": null,
      "max_height": null,
      "max_width": null,
      "min_height": null,
      "min_width": null,
      "object_fit": null,
      "object_position": null,
      "order": null,
      "overflow": null,
      "overflow_x": null,
      "overflow_y": null,
      "padding": null,
      "right": null,
      "top": null,
      "visibility": null,
      "width": null
     }
    },
    "09537b03f63d41b98ecd2f0156f86999": {
     "model_module": "@jupyter-widgets/controls",
     "model_module_version": "1.5.0",
     "model_name": "HTMLModel",
     "state": {
      "_dom_classes": [],
      "_model_module": "@jupyter-widgets/controls",
      "_model_module_version": "1.5.0",
      "_model_name": "HTMLModel",
      "_view_count": null,
      "_view_module": "@jupyter-widgets/controls",
      "_view_module_version": "1.5.0",
      "_view_name": "HTMLView",
      "description": "",
      "description_tooltip": null,
      "layout": "IPY_MODEL_39ea48d4169f4a5cb5a0b718e1921da9",
      "placeholder": "​",
      "style": "IPY_MODEL_32c95039202c4ee7bc860a8390acd262",
      "value": " 231/231 [00:22&lt;00:00, 10.40it/s]"
     }
    },
    "0a119d7271a346c59c3fae80f8655452": {
     "model_module": "@jupyter-widgets/controls",
     "model_module_version": "1.5.0",
     "model_name": "ProgressStyleModel",
     "state": {
      "_model_module": "@jupyter-widgets/controls",
      "_model_module_version": "1.5.0",
      "_model_name": "ProgressStyleModel",
      "_view_count": null,
      "_view_module": "@jupyter-widgets/base",
      "_view_module_version": "1.2.0",
      "_view_name": "StyleView",
      "bar_color": null,
      "description_width": ""
     }
    },
    "0b534d1b01874475a66b82ef8524218b": {
     "model_module": "@jupyter-widgets/base",
     "model_module_version": "1.2.0",
     "model_name": "LayoutModel",
     "state": {
      "_model_module": "@jupyter-widgets/base",
      "_model_module_version": "1.2.0",
      "_model_name": "LayoutModel",
      "_view_count": null,
      "_view_module": "@jupyter-widgets/base",
      "_view_module_version": "1.2.0",
      "_view_name": "LayoutView",
      "align_content": null,
      "align_items": null,
      "align_self": null,
      "border": null,
      "bottom": null,
      "display": null,
      "flex": "2",
      "flex_flow": null,
      "grid_area": null,
      "grid_auto_columns": null,
      "grid_auto_flow": null,
      "grid_auto_rows": null,
      "grid_column": null,
      "grid_gap": null,
      "grid_row": null,
      "grid_template_areas": null,
      "grid_template_columns": null,
      "grid_template_rows": null,
      "height": null,
      "justify_content": null,
      "justify_items": null,
      "left": null,
      "margin": null,
      "max_height": null,
      "max_width": null,
      "min_height": null,
      "min_width": null,
      "object_fit": null,
      "object_position": null,
      "order": null,
      "overflow": null,
      "overflow_x": null,
      "overflow_y": null,
      "padding": null,
      "right": null,
      "top": null,
      "visibility": null,
      "width": null
     }
    },
    "0cf05ca3619347d9917fd765be1a2a97": {
     "model_module": "@jupyter-widgets/controls",
     "model_module_version": "1.5.0",
     "model_name": "ProgressStyleModel",
     "state": {
      "_model_module": "@jupyter-widgets/controls",
      "_model_module_version": "1.5.0",
      "_model_name": "ProgressStyleModel",
      "_view_count": null,
      "_view_module": "@jupyter-widgets/base",
      "_view_module_version": "1.2.0",
      "_view_name": "StyleView",
      "bar_color": null,
      "description_width": ""
     }
    },
    "0e3386e21a5e46b288c911aa1671ab15": {
     "model_module": "@jupyter-widgets/base",
     "model_module_version": "1.2.0",
     "model_name": "LayoutModel",
     "state": {
      "_model_module": "@jupyter-widgets/base",
      "_model_module_version": "1.2.0",
      "_model_name": "LayoutModel",
      "_view_count": null,
      "_view_module": "@jupyter-widgets/base",
      "_view_module_version": "1.2.0",
      "_view_name": "LayoutView",
      "align_content": null,
      "align_items": null,
      "align_self": null,
      "border": null,
      "bottom": null,
      "display": null,
      "flex": null,
      "flex_flow": null,
      "grid_area": null,
      "grid_auto_columns": null,
      "grid_auto_flow": null,
      "grid_auto_rows": null,
      "grid_column": null,
      "grid_gap": null,
      "grid_row": null,
      "grid_template_areas": null,
      "grid_template_columns": null,
      "grid_template_rows": null,
      "height": null,
      "justify_content": null,
      "justify_items": null,
      "left": null,
      "margin": null,
      "max_height": null,
      "max_width": null,
      "min_height": null,
      "min_width": null,
      "object_fit": null,
      "object_position": null,
      "order": null,
      "overflow": null,
      "overflow_x": null,
      "overflow_y": null,
      "padding": null,
      "right": null,
      "top": null,
      "visibility": null,
      "width": null
     }
    },
    "0ee1e72210ba4a749585bbec14455e01": {
     "model_module": "@jupyter-widgets/base",
     "model_module_version": "1.2.0",
     "model_name": "LayoutModel",
     "state": {
      "_model_module": "@jupyter-widgets/base",
      "_model_module_version": "1.2.0",
      "_model_name": "LayoutModel",
      "_view_count": null,
      "_view_module": "@jupyter-widgets/base",
      "_view_module_version": "1.2.0",
      "_view_name": "LayoutView",
      "align_content": null,
      "align_items": null,
      "align_self": null,
      "border": null,
      "bottom": null,
      "display": null,
      "flex": null,
      "flex_flow": null,
      "grid_area": null,
      "grid_auto_columns": null,
      "grid_auto_flow": null,
      "grid_auto_rows": null,
      "grid_column": null,
      "grid_gap": null,
      "grid_row": null,
      "grid_template_areas": null,
      "grid_template_columns": null,
      "grid_template_rows": null,
      "height": null,
      "justify_content": null,
      "justify_items": null,
      "left": null,
      "margin": null,
      "max_height": null,
      "max_width": null,
      "min_height": null,
      "min_width": null,
      "object_fit": null,
      "object_position": null,
      "order": null,
      "overflow": null,
      "overflow_x": null,
      "overflow_y": null,
      "padding": null,
      "right": null,
      "top": null,
      "visibility": null,
      "width": null
     }
    },
    "12a64df39a7446c5a25b680b4a603ef4": {
     "model_module": "@jupyter-widgets/base",
     "model_module_version": "1.2.0",
     "model_name": "LayoutModel",
     "state": {
      "_model_module": "@jupyter-widgets/base",
      "_model_module_version": "1.2.0",
      "_model_name": "LayoutModel",
      "_view_count": null,
      "_view_module": "@jupyter-widgets/base",
      "_view_module_version": "1.2.0",
      "_view_name": "LayoutView",
      "align_content": null,
      "align_items": null,
      "align_self": null,
      "border": null,
      "bottom": null,
      "display": "inline-flex",
      "flex": null,
      "flex_flow": "row wrap",
      "grid_area": null,
      "grid_auto_columns": null,
      "grid_auto_flow": null,
      "grid_auto_rows": null,
      "grid_column": null,
      "grid_gap": null,
      "grid_row": null,
      "grid_template_areas": null,
      "grid_template_columns": null,
      "grid_template_rows": null,
      "height": null,
      "justify_content": null,
      "justify_items": null,
      "left": null,
      "margin": null,
      "max_height": null,
      "max_width": null,
      "min_height": null,
      "min_width": null,
      "object_fit": null,
      "object_position": null,
      "order": null,
      "overflow": null,
      "overflow_x": null,
      "overflow_y": null,
      "padding": null,
      "right": null,
      "top": null,
      "visibility": "hidden",
      "width": "100%"
     }
    },
    "14f9b29b82dd4bd894a18ab4926c38f5": {
     "model_module": "@jupyter-widgets/controls",
     "model_module_version": "1.5.0",
     "model_name": "FloatProgressModel",
     "state": {
      "_dom_classes": [],
      "_model_module": "@jupyter-widgets/controls",
      "_model_module_version": "1.5.0",
      "_model_name": "FloatProgressModel",
      "_view_count": null,
      "_view_module": "@jupyter-widgets/controls",
      "_view_module_version": "1.5.0",
      "_view_name": "ProgressView",
      "bar_style": "",
      "description": "",
      "description_tooltip": null,
      "layout": "IPY_MODEL_74cff3b5223b459bb8b2e67424ab2883",
      "max": 2,
      "min": 0,
      "orientation": "horizontal",
      "style": "IPY_MODEL_d9b14557af7d44c1bf6cae8676ce9735",
      "value": 2
     }
    },
    "17840977d34c4291bff4fd519cdf5317": {
     "model_module": "@jupyter-widgets/controls",
     "model_module_version": "1.5.0",
     "model_name": "HTMLModel",
     "state": {
      "_dom_classes": [],
      "_model_module": "@jupyter-widgets/controls",
      "_model_module_version": "1.5.0",
      "_model_name": "HTMLModel",
      "_view_count": null,
      "_view_module": "@jupyter-widgets/controls",
      "_view_module_version": "1.5.0",
      "_view_name": "HTMLView",
      "description": "",
      "description_tooltip": null,
      "layout": "IPY_MODEL_0ee1e72210ba4a749585bbec14455e01",
      "placeholder": "​",
      "style": "IPY_MODEL_7e3534ef672545f59700486059b93b10",
      "value": " 231/231 [00:22&lt;00:00, 10.09it/s]"
     }
    },
    "18396c557be0448bad190ba952604b4d": {
     "model_module": "@jupyter-widgets/controls",
     "model_module_version": "1.5.0",
     "model_name": "HBoxModel",
     "state": {
      "_dom_classes": [],
      "_model_module": "@jupyter-widgets/controls",
      "_model_module_version": "1.5.0",
      "_model_name": "HBoxModel",
      "_view_count": null,
      "_view_module": "@jupyter-widgets/controls",
      "_view_module_version": "1.5.0",
      "_view_name": "HBoxView",
      "box_style": "",
      "children": [
       "IPY_MODEL_88891a64f0954d00a13d13797ddceb29",
       "IPY_MODEL_98d1af24e0484863988952149c94a9c2",
       "IPY_MODEL_9895d0133d5044ad80aec708fe38b441"
      ],
      "layout": "IPY_MODEL_12a64df39a7446c5a25b680b4a603ef4"
     }
    },
    "20569fa2fb7d4227bff2f9d9b11265ef": {
     "model_module": "@jupyter-widgets/controls",
     "model_module_version": "1.5.0",
     "model_name": "DescriptionStyleModel",
     "state": {
      "_model_module": "@jupyter-widgets/controls",
      "_model_module_version": "1.5.0",
      "_model_name": "DescriptionStyleModel",
      "_view_count": null,
      "_view_module": "@jupyter-widgets/base",
      "_view_module_version": "1.2.0",
      "_view_name": "StyleView",
      "description_width": ""
     }
    },
    "225ef5d896024a64b263d3372370be93": {
     "model_module": "@jupyter-widgets/controls",
     "model_module_version": "1.5.0",
     "model_name": "ProgressStyleModel",
     "state": {
      "_model_module": "@jupyter-widgets/controls",
      "_model_module_version": "1.5.0",
      "_model_name": "ProgressStyleModel",
      "_view_count": null,
      "_view_module": "@jupyter-widgets/base",
      "_view_module_version": "1.2.0",
      "_view_name": "StyleView",
      "bar_color": null,
      "description_width": ""
     }
    },
    "2aec18a1fac947c78dab0c894c7e00f3": {
     "model_module": "@jupyter-widgets/controls",
     "model_module_version": "1.5.0",
     "model_name": "FloatProgressModel",
     "state": {
      "_dom_classes": [],
      "_model_module": "@jupyter-widgets/controls",
      "_model_module_version": "1.5.0",
      "_model_name": "FloatProgressModel",
      "_view_count": null,
      "_view_module": "@jupyter-widgets/controls",
      "_view_module_version": "1.5.0",
      "_view_name": "ProgressView",
      "bar_style": "",
      "description": "",
      "description_tooltip": null,
      "layout": "IPY_MODEL_9df78d9b7e17447889d0eeda114c666b",
      "max": 231,
      "min": 0,
      "orientation": "horizontal",
      "style": "IPY_MODEL_0cf05ca3619347d9917fd765be1a2a97",
      "value": 231
     }
    },
    "2d527fa22c524de49f6f85e8ddd99024": {
     "model_module": "@jupyter-widgets/controls",
     "model_module_version": "1.5.0",
     "model_name": "DescriptionStyleModel",
     "state": {
      "_model_module": "@jupyter-widgets/controls",
      "_model_module_version": "1.5.0",
      "_model_name": "DescriptionStyleModel",
      "_view_count": null,
      "_view_module": "@jupyter-widgets/base",
      "_view_module_version": "1.2.0",
      "_view_name": "StyleView",
      "description_width": ""
     }
    },
    "2e81039bf92c43989b752859767de68e": {
     "model_module": "@jupyter-widgets/base",
     "model_module_version": "1.2.0",
     "model_name": "LayoutModel",
     "state": {
      "_model_module": "@jupyter-widgets/base",
      "_model_module_version": "1.2.0",
      "_model_name": "LayoutModel",
      "_view_count": null,
      "_view_module": "@jupyter-widgets/base",
      "_view_module_version": "1.2.0",
      "_view_name": "LayoutView",
      "align_content": null,
      "align_items": null,
      "align_self": null,
      "border": null,
      "bottom": null,
      "display": null,
      "flex": null,
      "flex_flow": null,
      "grid_area": null,
      "grid_auto_columns": null,
      "grid_auto_flow": null,
      "grid_auto_rows": null,
      "grid_column": null,
      "grid_gap": null,
      "grid_row": null,
      "grid_template_areas": null,
      "grid_template_columns": null,
      "grid_template_rows": null,
      "height": null,
      "justify_content": null,
      "justify_items": null,
      "left": null,
      "margin": null,
      "max_height": null,
      "max_width": null,
      "min_height": null,
      "min_width": null,
      "object_fit": null,
      "object_position": null,
      "order": null,
      "overflow": null,
      "overflow_x": null,
      "overflow_y": null,
      "padding": null,
      "right": null,
      "top": null,
      "visibility": null,
      "width": null
     }
    },
    "32c95039202c4ee7bc860a8390acd262": {
     "model_module": "@jupyter-widgets/controls",
     "model_module_version": "1.5.0",
     "model_name": "DescriptionStyleModel",
     "state": {
      "_model_module": "@jupyter-widgets/controls",
      "_model_module_version": "1.5.0",
      "_model_name": "DescriptionStyleModel",
      "_view_count": null,
      "_view_module": "@jupyter-widgets/base",
      "_view_module_version": "1.2.0",
      "_view_name": "StyleView",
      "description_width": ""
     }
    },
    "35e600e944fe4760ab599baad87055e6": {
     "model_module": "@jupyter-widgets/controls",
     "model_module_version": "1.5.0",
     "model_name": "DescriptionStyleModel",
     "state": {
      "_model_module": "@jupyter-widgets/controls",
      "_model_module_version": "1.5.0",
      "_model_name": "DescriptionStyleModel",
      "_view_count": null,
      "_view_module": "@jupyter-widgets/base",
      "_view_module_version": "1.2.0",
      "_view_name": "StyleView",
      "description_width": ""
     }
    },
    "36d022e7e1974f118480b6157d82aa7f": {
     "model_module": "@jupyter-widgets/controls",
     "model_module_version": "1.5.0",
     "model_name": "DescriptionStyleModel",
     "state": {
      "_model_module": "@jupyter-widgets/controls",
      "_model_module_version": "1.5.0",
      "_model_name": "DescriptionStyleModel",
      "_view_count": null,
      "_view_module": "@jupyter-widgets/base",
      "_view_module_version": "1.2.0",
      "_view_name": "StyleView",
      "description_width": ""
     }
    },
    "36f3e86c3d0c4187aac0998aa391d041": {
     "model_module": "@jupyter-widgets/controls",
     "model_module_version": "1.5.0",
     "model_name": "HTMLModel",
     "state": {
      "_dom_classes": [],
      "_model_module": "@jupyter-widgets/controls",
      "_model_module_version": "1.5.0",
      "_model_name": "HTMLModel",
      "_view_count": null,
      "_view_module": "@jupyter-widgets/controls",
      "_view_module_version": "1.5.0",
      "_view_name": "HTMLView",
      "description": "",
      "description_tooltip": null,
      "layout": "IPY_MODEL_6dae34ee30114d1eb5f2a9ce4b8cf7c6",
      "placeholder": "​",
      "style": "IPY_MODEL_36d022e7e1974f118480b6157d82aa7f",
      "value": " 116/116 [00:11&lt;00:00, 10.35it/s]"
     }
    },
    "39a1147fa9944d95bf9a338b2f7f0d2e": {
     "model_module": "@jupyter-widgets/controls",
     "model_module_version": "1.5.0",
     "model_name": "HBoxModel",
     "state": {
      "_dom_classes": [],
      "_model_module": "@jupyter-widgets/controls",
      "_model_module_version": "1.5.0",
      "_model_name": "HBoxModel",
      "_view_count": null,
      "_view_module": "@jupyter-widgets/controls",
      "_view_module_version": "1.5.0",
      "_view_name": "HBoxView",
      "box_style": "",
      "children": [
       "IPY_MODEL_8bf4cb4bed464d47b82f3bde7b711730",
       "IPY_MODEL_14f9b29b82dd4bd894a18ab4926c38f5",
       "IPY_MODEL_6be9d47540474b7faca45d51a6c76705"
      ],
      "layout": "IPY_MODEL_52969b1a6eb84e5aba59d5434ffe4672"
     }
    },
    "39ea48d4169f4a5cb5a0b718e1921da9": {
     "model_module": "@jupyter-widgets/base",
     "model_module_version": "1.2.0",
     "model_name": "LayoutModel",
     "state": {
      "_model_module": "@jupyter-widgets/base",
      "_model_module_version": "1.2.0",
      "_model_name": "LayoutModel",
      "_view_count": null,
      "_view_module": "@jupyter-widgets/base",
      "_view_module_version": "1.2.0",
      "_view_name": "LayoutView",
      "align_content": null,
      "align_items": null,
      "align_self": null,
      "border": null,
      "bottom": null,
      "display": null,
      "flex": null,
      "flex_flow": null,
      "grid_area": null,
      "grid_auto_columns": null,
      "grid_auto_flow": null,
      "grid_auto_rows": null,
      "grid_column": null,
      "grid_gap": null,
      "grid_row": null,
      "grid_template_areas": null,
      "grid_template_columns": null,
      "grid_template_rows": null,
      "height": null,
      "justify_content": null,
      "justify_items": null,
      "left": null,
      "margin": null,
      "max_height": null,
      "max_width": null,
      "min_height": null,
      "min_width": null,
      "object_fit": null,
      "object_position": null,
      "order": null,
      "overflow": null,
      "overflow_x": null,
      "overflow_y": null,
      "padding": null,
      "right": null,
      "top": null,
      "visibility": null,
      "width": null
     }
    },
    "3c8d140950b34d6cb7b60a95e3f077a7": {
     "model_module": "@jupyter-widgets/base",
     "model_module_version": "1.2.0",
     "model_name": "LayoutModel",
     "state": {
      "_model_module": "@jupyter-widgets/base",
      "_model_module_version": "1.2.0",
      "_model_name": "LayoutModel",
      "_view_count": null,
      "_view_module": "@jupyter-widgets/base",
      "_view_module_version": "1.2.0",
      "_view_name": "LayoutView",
      "align_content": null,
      "align_items": null,
      "align_self": null,
      "border": null,
      "bottom": null,
      "display": null,
      "flex": null,
      "flex_flow": null,
      "grid_area": null,
      "grid_auto_columns": null,
      "grid_auto_flow": null,
      "grid_auto_rows": null,
      "grid_column": null,
      "grid_gap": null,
      "grid_row": null,
      "grid_template_areas": null,
      "grid_template_columns": null,
      "grid_template_rows": null,
      "height": null,
      "justify_content": null,
      "justify_items": null,
      "left": null,
      "margin": null,
      "max_height": null,
      "max_width": null,
      "min_height": null,
      "min_width": null,
      "object_fit": null,
      "object_position": null,
      "order": null,
      "overflow": null,
      "overflow_x": null,
      "overflow_y": null,
      "padding": null,
      "right": null,
      "top": null,
      "visibility": null,
      "width": null
     }
    },
    "3fc01f9517ff4f7b97ef9dc874865b33": {
     "model_module": "@jupyter-widgets/controls",
     "model_module_version": "1.5.0",
     "model_name": "HTMLModel",
     "state": {
      "_dom_classes": [],
      "_model_module": "@jupyter-widgets/controls",
      "_model_module_version": "1.5.0",
      "_model_name": "HTMLModel",
      "_view_count": null,
      "_view_module": "@jupyter-widgets/controls",
      "_view_module_version": "1.5.0",
      "_view_name": "HTMLView",
      "description": "",
      "description_tooltip": null,
      "layout": "IPY_MODEL_d63e8324ad704d59b71560188e3b11ce",
      "placeholder": "​",
      "style": "IPY_MODEL_754f8cbc02994491b516628ba9532cbc",
      "value": "Epoch 4: 100%"
     }
    },
    "481274726ea64564aaedf83d6d60bf68": {
     "model_module": "@jupyter-widgets/controls",
     "model_module_version": "1.5.0",
     "model_name": "HTMLModel",
     "state": {
      "_dom_classes": [],
      "_model_module": "@jupyter-widgets/controls",
      "_model_module_version": "1.5.0",
      "_model_name": "HTMLModel",
      "_view_count": null,
      "_view_module": "@jupyter-widgets/controls",
      "_view_module_version": "1.5.0",
      "_view_name": "HTMLView",
      "description": "",
      "description_tooltip": null,
      "layout": "IPY_MODEL_055f96f231bd4b23aea3fc42335b12ed",
      "placeholder": "​",
      "style": "IPY_MODEL_5d0ae373d1644b96b0bd76cdfb4ce935",
      "value": " 231/231 [00:22&lt;00:00, 10.31it/s]"
     }
    },
    "49477a1542f74083a0c75f62e35fc210": {
     "model_module": "@jupyter-widgets/controls",
     "model_module_version": "1.5.0",
     "model_name": "HTMLModel",
     "state": {
      "_dom_classes": [],
      "_model_module": "@jupyter-widgets/controls",
      "_model_module_version": "1.5.0",
      "_model_name": "HTMLModel",
      "_view_count": null,
      "_view_module": "@jupyter-widgets/controls",
      "_view_module_version": "1.5.0",
      "_view_name": "HTMLView",
      "description": "",
      "description_tooltip": null,
      "layout": "IPY_MODEL_f1c572c7bcb54fc8959f0a4776ab24ce",
      "placeholder": "​",
      "style": "IPY_MODEL_20569fa2fb7d4227bff2f9d9b11265ef",
      "value": "Validation DataLoader 0: 100%"
     }
    },
    "4b573e6731b54334b30402d82a696717": {
     "model_module": "@jupyter-widgets/controls",
     "model_module_version": "1.5.0",
     "model_name": "DescriptionStyleModel",
     "state": {
      "_model_module": "@jupyter-widgets/controls",
      "_model_module_version": "1.5.0",
      "_model_name": "DescriptionStyleModel",
      "_view_count": null,
      "_view_module": "@jupyter-widgets/base",
      "_view_module_version": "1.2.0",
      "_view_name": "StyleView",
      "description_width": ""
     }
    },
    "525e3014b9d04d329395e663e29a49c3": {
     "model_module": "@jupyter-widgets/base",
     "model_module_version": "1.2.0",
     "model_name": "LayoutModel",
     "state": {
      "_model_module": "@jupyter-widgets/base",
      "_model_module_version": "1.2.0",
      "_model_name": "LayoutModel",
      "_view_count": null,
      "_view_module": "@jupyter-widgets/base",
      "_view_module_version": "1.2.0",
      "_view_name": "LayoutView",
      "align_content": null,
      "align_items": null,
      "align_self": null,
      "border": null,
      "bottom": null,
      "display": null,
      "flex": null,
      "flex_flow": null,
      "grid_area": null,
      "grid_auto_columns": null,
      "grid_auto_flow": null,
      "grid_auto_rows": null,
      "grid_column": null,
      "grid_gap": null,
      "grid_row": null,
      "grid_template_areas": null,
      "grid_template_columns": null,
      "grid_template_rows": null,
      "height": null,
      "justify_content": null,
      "justify_items": null,
      "left": null,
      "margin": null,
      "max_height": null,
      "max_width": null,
      "min_height": null,
      "min_width": null,
      "object_fit": null,
      "object_position": null,
      "order": null,
      "overflow": null,
      "overflow_x": null,
      "overflow_y": null,
      "padding": null,
      "right": null,
      "top": null,
      "visibility": null,
      "width": null
     }
    },
    "52969b1a6eb84e5aba59d5434ffe4672": {
     "model_module": "@jupyter-widgets/base",
     "model_module_version": "1.2.0",
     "model_name": "LayoutModel",
     "state": {
      "_model_module": "@jupyter-widgets/base",
      "_model_module_version": "1.2.0",
      "_model_name": "LayoutModel",
      "_view_count": null,
      "_view_module": "@jupyter-widgets/base",
      "_view_module_version": "1.2.0",
      "_view_name": "LayoutView",
      "align_content": null,
      "align_items": null,
      "align_self": null,
      "border": null,
      "bottom": null,
      "display": "inline-flex",
      "flex": null,
      "flex_flow": "row wrap",
      "grid_area": null,
      "grid_auto_columns": null,
      "grid_auto_flow": null,
      "grid_auto_rows": null,
      "grid_column": null,
      "grid_gap": null,
      "grid_row": null,
      "grid_template_areas": null,
      "grid_template_columns": null,
      "grid_template_rows": null,
      "height": null,
      "justify_content": null,
      "justify_items": null,
      "left": null,
      "margin": null,
      "max_height": null,
      "max_width": null,
      "min_height": null,
      "min_width": null,
      "object_fit": null,
      "object_position": null,
      "order": null,
      "overflow": null,
      "overflow_x": null,
      "overflow_y": null,
      "padding": null,
      "right": null,
      "top": null,
      "visibility": "hidden",
      "width": "100%"
     }
    },
    "568deaa6b0bf49bf9c412500a32e5c40": {
     "model_module": "@jupyter-widgets/controls",
     "model_module_version": "1.5.0",
     "model_name": "FloatProgressModel",
     "state": {
      "_dom_classes": [],
      "_model_module": "@jupyter-widgets/controls",
      "_model_module_version": "1.5.0",
      "_model_name": "FloatProgressModel",
      "_view_count": null,
      "_view_module": "@jupyter-widgets/controls",
      "_view_module_version": "1.5.0",
      "_view_name": "ProgressView",
      "bar_style": "",
      "description": "",
      "description_tooltip": null,
      "layout": "IPY_MODEL_c979865b5ef54707adee4acf3993cac6",
      "max": 231,
      "min": 0,
      "orientation": "horizontal",
      "style": "IPY_MODEL_a213164f11f644529c4b0ef75d2fb24d",
      "value": 231
     }
    },
    "57f02730766a4c778d7508b5da8b7082": {
     "model_module": "@jupyter-widgets/base",
     "model_module_version": "1.2.0",
     "model_name": "LayoutModel",
     "state": {
      "_model_module": "@jupyter-widgets/base",
      "_model_module_version": "1.2.0",
      "_model_name": "LayoutModel",
      "_view_count": null,
      "_view_module": "@jupyter-widgets/base",
      "_view_module_version": "1.2.0",
      "_view_name": "LayoutView",
      "align_content": null,
      "align_items": null,
      "align_self": null,
      "border": null,
      "bottom": null,
      "display": null,
      "flex": null,
      "flex_flow": null,
      "grid_area": null,
      "grid_auto_columns": null,
      "grid_auto_flow": null,
      "grid_auto_rows": null,
      "grid_column": null,
      "grid_gap": null,
      "grid_row": null,
      "grid_template_areas": null,
      "grid_template_columns": null,
      "grid_template_rows": null,
      "height": null,
      "justify_content": null,
      "justify_items": null,
      "left": null,
      "margin": null,
      "max_height": null,
      "max_width": null,
      "min_height": null,
      "min_width": null,
      "object_fit": null,
      "object_position": null,
      "order": null,
      "overflow": null,
      "overflow_x": null,
      "overflow_y": null,
      "padding": null,
      "right": null,
      "top": null,
      "visibility": null,
      "width": null
     }
    },
    "58cdcfd5ee3d4d67ba926bed8afb4750": {
     "model_module": "@jupyter-widgets/controls",
     "model_module_version": "1.5.0",
     "model_name": "FloatProgressModel",
     "state": {
      "_dom_classes": [],
      "_model_module": "@jupyter-widgets/controls",
      "_model_module_version": "1.5.0",
      "_model_name": "FloatProgressModel",
      "_view_count": null,
      "_view_module": "@jupyter-widgets/controls",
      "_view_module_version": "1.5.0",
      "_view_name": "ProgressView",
      "bar_style": "success",
      "description": "",
      "description_tooltip": null,
      "layout": "IPY_MODEL_63279e253e2742779eb0001904c20f31",
      "max": 809,
      "min": 0,
      "orientation": "horizontal",
      "style": "IPY_MODEL_7cc01715f0634938b31a520eedb946a6",
      "value": 809
     }
    },
    "593dfd23d49d47708c00b57dd01898f0": {
     "model_module": "@jupyter-widgets/controls",
     "model_module_version": "1.5.0",
     "model_name": "DescriptionStyleModel",
     "state": {
      "_model_module": "@jupyter-widgets/controls",
      "_model_module_version": "1.5.0",
      "_model_name": "DescriptionStyleModel",
      "_view_count": null,
      "_view_module": "@jupyter-widgets/base",
      "_view_module_version": "1.2.0",
      "_view_name": "StyleView",
      "description_width": ""
     }
    },
    "597c427b9aff44b1be5abdb3a823f0a1": {
     "model_module": "@jupyter-widgets/base",
     "model_module_version": "1.2.0",
     "model_name": "LayoutModel",
     "state": {
      "_model_module": "@jupyter-widgets/base",
      "_model_module_version": "1.2.0",
      "_model_name": "LayoutModel",
      "_view_count": null,
      "_view_module": "@jupyter-widgets/base",
      "_view_module_version": "1.2.0",
      "_view_name": "LayoutView",
      "align_content": null,
      "align_items": null,
      "align_self": null,
      "border": null,
      "bottom": null,
      "display": "inline-flex",
      "flex": null,
      "flex_flow": "row wrap",
      "grid_area": null,
      "grid_auto_columns": null,
      "grid_auto_flow": null,
      "grid_auto_rows": null,
      "grid_column": null,
      "grid_gap": null,
      "grid_row": null,
      "grid_template_areas": null,
      "grid_template_columns": null,
      "grid_template_rows": null,
      "height": null,
      "justify_content": null,
      "justify_items": null,
      "left": null,
      "margin": null,
      "max_height": null,
      "max_width": null,
      "min_height": null,
      "min_width": null,
      "object_fit": null,
      "object_position": null,
      "order": null,
      "overflow": null,
      "overflow_x": null,
      "overflow_y": null,
      "padding": null,
      "right": null,
      "top": null,
      "visibility": "hidden",
      "width": "100%"
     }
    },
    "5d0ae373d1644b96b0bd76cdfb4ce935": {
     "model_module": "@jupyter-widgets/controls",
     "model_module_version": "1.5.0",
     "model_name": "DescriptionStyleModel",
     "state": {
      "_model_module": "@jupyter-widgets/controls",
      "_model_module_version": "1.5.0",
      "_model_name": "DescriptionStyleModel",
      "_view_count": null,
      "_view_module": "@jupyter-widgets/base",
      "_view_module_version": "1.2.0",
      "_view_name": "StyleView",
      "description_width": ""
     }
    },
    "63279e253e2742779eb0001904c20f31": {
     "model_module": "@jupyter-widgets/base",
     "model_module_version": "1.2.0",
     "model_name": "LayoutModel",
     "state": {
      "_model_module": "@jupyter-widgets/base",
      "_model_module_version": "1.2.0",
      "_model_name": "LayoutModel",
      "_view_count": null,
      "_view_module": "@jupyter-widgets/base",
      "_view_module_version": "1.2.0",
      "_view_name": "LayoutView",
      "align_content": null,
      "align_items": null,
      "align_self": null,
      "border": null,
      "bottom": null,
      "display": null,
      "flex": "2",
      "flex_flow": null,
      "grid_area": null,
      "grid_auto_columns": null,
      "grid_auto_flow": null,
      "grid_auto_rows": null,
      "grid_column": null,
      "grid_gap": null,
      "grid_row": null,
      "grid_template_areas": null,
      "grid_template_columns": null,
      "grid_template_rows": null,
      "height": null,
      "justify_content": null,
      "justify_items": null,
      "left": null,
      "margin": null,
      "max_height": null,
      "max_width": null,
      "min_height": null,
      "min_width": null,
      "object_fit": null,
      "object_position": null,
      "order": null,
      "overflow": null,
      "overflow_x": null,
      "overflow_y": null,
      "padding": null,
      "right": null,
      "top": null,
      "visibility": null,
      "width": null
     }
    },
    "6b6d3c3a989845928c26337d27f0494e": {
     "model_module": "@jupyter-widgets/base",
     "model_module_version": "1.2.0",
     "model_name": "LayoutModel",
     "state": {
      "_model_module": "@jupyter-widgets/base",
      "_model_module_version": "1.2.0",
      "_model_name": "LayoutModel",
      "_view_count": null,
      "_view_module": "@jupyter-widgets/base",
      "_view_module_version": "1.2.0",
      "_view_name": "LayoutView",
      "align_content": null,
      "align_items": null,
      "align_self": null,
      "border": null,
      "bottom": null,
      "display": null,
      "flex": null,
      "flex_flow": null,
      "grid_area": null,
      "grid_auto_columns": null,
      "grid_auto_flow": null,
      "grid_auto_rows": null,
      "grid_column": null,
      "grid_gap": null,
      "grid_row": null,
      "grid_template_areas": null,
      "grid_template_columns": null,
      "grid_template_rows": null,
      "height": null,
      "justify_content": null,
      "justify_items": null,
      "left": null,
      "margin": null,
      "max_height": null,
      "max_width": null,
      "min_height": null,
      "min_width": null,
      "object_fit": null,
      "object_position": null,
      "order": null,
      "overflow": null,
      "overflow_x": null,
      "overflow_y": null,
      "padding": null,
      "right": null,
      "top": null,
      "visibility": null,
      "width": null
     }
    },
    "6be9d47540474b7faca45d51a6c76705": {
     "model_module": "@jupyter-widgets/controls",
     "model_module_version": "1.5.0",
     "model_name": "HTMLModel",
     "state": {
      "_dom_classes": [],
      "_model_module": "@jupyter-widgets/controls",
      "_model_module_version": "1.5.0",
      "_model_name": "HTMLModel",
      "_view_count": null,
      "_view_module": "@jupyter-widgets/controls",
      "_view_module_version": "1.5.0",
      "_view_name": "HTMLView",
      "description": "",
      "description_tooltip": null,
      "layout": "IPY_MODEL_a93cb852d6264eb0afde3425dcb0a047",
      "placeholder": "​",
      "style": "IPY_MODEL_e2000416b4a3453288333d21587b7e14",
      "value": " 2/2 [00:01&lt;00:00,  1.55it/s]"
     }
    },
    "6dae34ee30114d1eb5f2a9ce4b8cf7c6": {
     "model_module": "@jupyter-widgets/base",
     "model_module_version": "1.2.0",
     "model_name": "LayoutModel",
     "state": {
      "_model_module": "@jupyter-widgets/base",
      "_model_module_version": "1.2.0",
      "_model_name": "LayoutModel",
      "_view_count": null,
      "_view_module": "@jupyter-widgets/base",
      "_view_module_version": "1.2.0",
      "_view_name": "LayoutView",
      "align_content": null,
      "align_items": null,
      "align_self": null,
      "border": null,
      "bottom": null,
      "display": null,
      "flex": null,
      "flex_flow": null,
      "grid_area": null,
      "grid_auto_columns": null,
      "grid_auto_flow": null,
      "grid_auto_rows": null,
      "grid_column": null,
      "grid_gap": null,
      "grid_row": null,
      "grid_template_areas": null,
      "grid_template_columns": null,
      "grid_template_rows": null,
      "height": null,
      "justify_content": null,
      "justify_items": null,
      "left": null,
      "margin": null,
      "max_height": null,
      "max_width": null,
      "min_height": null,
      "min_width": null,
      "object_fit": null,
      "object_position": null,
      "order": null,
      "overflow": null,
      "overflow_x": null,
      "overflow_y": null,
      "padding": null,
      "right": null,
      "top": null,
      "visibility": null,
      "width": null
     }
    },
    "71a623ee8b2042c6931b58265915d953": {
     "model_module": "@jupyter-widgets/controls",
     "model_module_version": "1.5.0",
     "model_name": "ProgressStyleModel",
     "state": {
      "_model_module": "@jupyter-widgets/controls",
      "_model_module_version": "1.5.0",
      "_model_name": "ProgressStyleModel",
      "_view_count": null,
      "_view_module": "@jupyter-widgets/base",
      "_view_module_version": "1.2.0",
      "_view_name": "StyleView",
      "bar_color": null,
      "description_width": ""
     }
    },
    "74cff3b5223b459bb8b2e67424ab2883": {
     "model_module": "@jupyter-widgets/base",
     "model_module_version": "1.2.0",
     "model_name": "LayoutModel",
     "state": {
      "_model_module": "@jupyter-widgets/base",
      "_model_module_version": "1.2.0",
      "_model_name": "LayoutModel",
      "_view_count": null,
      "_view_module": "@jupyter-widgets/base",
      "_view_module_version": "1.2.0",
      "_view_name": "LayoutView",
      "align_content": null,
      "align_items": null,
      "align_self": null,
      "border": null,
      "bottom": null,
      "display": null,
      "flex": "2",
      "flex_flow": null,
      "grid_area": null,
      "grid_auto_columns": null,
      "grid_auto_flow": null,
      "grid_auto_rows": null,
      "grid_column": null,
      "grid_gap": null,
      "grid_row": null,
      "grid_template_areas": null,
      "grid_template_columns": null,
      "grid_template_rows": null,
      "height": null,
      "justify_content": null,
      "justify_items": null,
      "left": null,
      "margin": null,
      "max_height": null,
      "max_width": null,
      "min_height": null,
      "min_width": null,
      "object_fit": null,
      "object_position": null,
      "order": null,
      "overflow": null,
      "overflow_x": null,
      "overflow_y": null,
      "padding": null,
      "right": null,
      "top": null,
      "visibility": null,
      "width": null
     }
    },
    "754f8cbc02994491b516628ba9532cbc": {
     "model_module": "@jupyter-widgets/controls",
     "model_module_version": "1.5.0",
     "model_name": "DescriptionStyleModel",
     "state": {
      "_model_module": "@jupyter-widgets/controls",
      "_model_module_version": "1.5.0",
      "_model_name": "DescriptionStyleModel",
      "_view_count": null,
      "_view_module": "@jupyter-widgets/base",
      "_view_module_version": "1.2.0",
      "_view_name": "StyleView",
      "description_width": ""
     }
    },
    "76a2eeb73aaa45ada29bc7e2b656f2c6": {
     "model_module": "@jupyter-widgets/controls",
     "model_module_version": "1.5.0",
     "model_name": "DescriptionStyleModel",
     "state": {
      "_model_module": "@jupyter-widgets/controls",
      "_model_module_version": "1.5.0",
      "_model_name": "DescriptionStyleModel",
      "_view_count": null,
      "_view_module": "@jupyter-widgets/base",
      "_view_module_version": "1.2.0",
      "_view_name": "StyleView",
      "description_width": ""
     }
    },
    "77efe6e1cc344e7fb4f7eaa5fdb6fd10": {
     "model_module": "@jupyter-widgets/controls",
     "model_module_version": "1.5.0",
     "model_name": "DescriptionStyleModel",
     "state": {
      "_model_module": "@jupyter-widgets/controls",
      "_model_module_version": "1.5.0",
      "_model_name": "DescriptionStyleModel",
      "_view_count": null,
      "_view_module": "@jupyter-widgets/base",
      "_view_module_version": "1.2.0",
      "_view_name": "StyleView",
      "description_width": ""
     }
    },
    "792f8a2f83e54fb6a36096f438dfa36f": {
     "model_module": "@jupyter-widgets/base",
     "model_module_version": "1.2.0",
     "model_name": "LayoutModel",
     "state": {
      "_model_module": "@jupyter-widgets/base",
      "_model_module_version": "1.2.0",
      "_model_name": "LayoutModel",
      "_view_count": null,
      "_view_module": "@jupyter-widgets/base",
      "_view_module_version": "1.2.0",
      "_view_name": "LayoutView",
      "align_content": null,
      "align_items": null,
      "align_self": null,
      "border": null,
      "bottom": null,
      "display": null,
      "flex": "2",
      "flex_flow": null,
      "grid_area": null,
      "grid_auto_columns": null,
      "grid_auto_flow": null,
      "grid_auto_rows": null,
      "grid_column": null,
      "grid_gap": null,
      "grid_row": null,
      "grid_template_areas": null,
      "grid_template_columns": null,
      "grid_template_rows": null,
      "height": null,
      "justify_content": null,
      "justify_items": null,
      "left": null,
      "margin": null,
      "max_height": null,
      "max_width": null,
      "min_height": null,
      "min_width": null,
      "object_fit": null,
      "object_position": null,
      "order": null,
      "overflow": null,
      "overflow_x": null,
      "overflow_y": null,
      "padding": null,
      "right": null,
      "top": null,
      "visibility": null,
      "width": null
     }
    },
    "7cc01715f0634938b31a520eedb946a6": {
     "model_module": "@jupyter-widgets/controls",
     "model_module_version": "1.5.0",
     "model_name": "ProgressStyleModel",
     "state": {
      "_model_module": "@jupyter-widgets/controls",
      "_model_module_version": "1.5.0",
      "_model_name": "ProgressStyleModel",
      "_view_count": null,
      "_view_module": "@jupyter-widgets/base",
      "_view_module_version": "1.2.0",
      "_view_name": "StyleView",
      "bar_color": null,
      "description_width": ""
     }
    },
    "7e3534ef672545f59700486059b93b10": {
     "model_module": "@jupyter-widgets/controls",
     "model_module_version": "1.5.0",
     "model_name": "DescriptionStyleModel",
     "state": {
      "_model_module": "@jupyter-widgets/controls",
      "_model_module_version": "1.5.0",
      "_model_name": "DescriptionStyleModel",
      "_view_count": null,
      "_view_module": "@jupyter-widgets/base",
      "_view_module_version": "1.2.0",
      "_view_name": "StyleView",
      "description_width": ""
     }
    },
    "7f5c82d675b5438986bde1717cdbd83d": {
     "model_module": "@jupyter-widgets/base",
     "model_module_version": "1.2.0",
     "model_name": "LayoutModel",
     "state": {
      "_model_module": "@jupyter-widgets/base",
      "_model_module_version": "1.2.0",
      "_model_name": "LayoutModel",
      "_view_count": null,
      "_view_module": "@jupyter-widgets/base",
      "_view_module_version": "1.2.0",
      "_view_name": "LayoutView",
      "align_content": null,
      "align_items": null,
      "align_self": null,
      "border": null,
      "bottom": null,
      "display": null,
      "flex": null,
      "flex_flow": null,
      "grid_area": null,
      "grid_auto_columns": null,
      "grid_auto_flow": null,
      "grid_auto_rows": null,
      "grid_column": null,
      "grid_gap": null,
      "grid_row": null,
      "grid_template_areas": null,
      "grid_template_columns": null,
      "grid_template_rows": null,
      "height": null,
      "justify_content": null,
      "justify_items": null,
      "left": null,
      "margin": null,
      "max_height": null,
      "max_width": null,
      "min_height": null,
      "min_width": null,
      "object_fit": null,
      "object_position": null,
      "order": null,
      "overflow": null,
      "overflow_x": null,
      "overflow_y": null,
      "padding": null,
      "right": null,
      "top": null,
      "visibility": null,
      "width": null
     }
    },
    "82134d19737145879d116a5baae7c32c": {
     "model_module": "@jupyter-widgets/controls",
     "model_module_version": "1.5.0",
     "model_name": "HTMLModel",
     "state": {
      "_dom_classes": [],
      "_model_module": "@jupyter-widgets/controls",
      "_model_module_version": "1.5.0",
      "_model_name": "HTMLModel",
      "_view_count": null,
      "_view_module": "@jupyter-widgets/controls",
      "_view_module_version": "1.5.0",
      "_view_name": "HTMLView",
      "description": "",
      "description_tooltip": null,
      "layout": "IPY_MODEL_7f5c82d675b5438986bde1717cdbd83d",
      "placeholder": "​",
      "style": "IPY_MODEL_2d527fa22c524de49f6f85e8ddd99024",
      "value": "Validation DataLoader 0: 100%"
     }
    },
    "83376acbf56d494380b32e3fee87a721": {
     "model_module": "@jupyter-widgets/controls",
     "model_module_version": "1.5.0",
     "model_name": "DescriptionStyleModel",
     "state": {
      "_model_module": "@jupyter-widgets/controls",
      "_model_module_version": "1.5.0",
      "_model_name": "DescriptionStyleModel",
      "_view_count": null,
      "_view_module": "@jupyter-widgets/base",
      "_view_module_version": "1.2.0",
      "_view_name": "StyleView",
      "description_width": ""
     }
    },
    "84be9651938f4d658a75afa6e6f5fe42": {
     "model_module": "@jupyter-widgets/controls",
     "model_module_version": "1.5.0",
     "model_name": "HTMLModel",
     "state": {
      "_dom_classes": [],
      "_model_module": "@jupyter-widgets/controls",
      "_model_module_version": "1.5.0",
      "_model_name": "HTMLModel",
      "_view_count": null,
      "_view_module": "@jupyter-widgets/controls",
      "_view_module_version": "1.5.0",
      "_view_name": "HTMLView",
      "description": "",
      "description_tooltip": null,
      "layout": "IPY_MODEL_2e81039bf92c43989b752859767de68e",
      "placeholder": "​",
      "style": "IPY_MODEL_4b573e6731b54334b30402d82a696717",
      "value": "Validation DataLoader 0: 100%"
     }
    },
    "8597a98fe8e548be8764f43d4ea2dbf8": {
     "model_module": "@jupyter-widgets/controls",
     "model_module_version": "1.5.0",
     "model_name": "HTMLModel",
     "state": {
      "_dom_classes": [],
      "_model_module": "@jupyter-widgets/controls",
      "_model_module_version": "1.5.0",
      "_model_name": "HTMLModel",
      "_view_count": null,
      "_view_module": "@jupyter-widgets/controls",
      "_view_module_version": "1.5.0",
      "_view_name": "HTMLView",
      "description": "",
      "description_tooltip": null,
      "layout": "IPY_MODEL_3c8d140950b34d6cb7b60a95e3f077a7",
      "placeholder": "​",
      "style": "IPY_MODEL_76a2eeb73aaa45ada29bc7e2b656f2c6",
      "value": "Validation DataLoader 0: 100%"
     }
    },
    "88891a64f0954d00a13d13797ddceb29": {
     "model_module": "@jupyter-widgets/controls",
     "model_module_version": "1.5.0",
     "model_name": "HTMLModel",
     "state": {
      "_dom_classes": [],
      "_model_module": "@jupyter-widgets/controls",
      "_model_module_version": "1.5.0",
      "_model_name": "HTMLModel",
      "_view_count": null,
      "_view_module": "@jupyter-widgets/controls",
      "_view_module_version": "1.5.0",
      "_view_name": "HTMLView",
      "description": "",
      "description_tooltip": null,
      "layout": "IPY_MODEL_fa82fe9e9c784684aaf6fbd5448feb4f",
      "placeholder": "​",
      "style": "IPY_MODEL_93b138099c3d41bb939fdf8795357e5a",
      "value": "Validation DataLoader 0: 100%"
     }
    },
    "8a620d93b8cf4a9a8d1c4e3218cecd20": {
     "model_module": "@jupyter-widgets/base",
     "model_module_version": "1.2.0",
     "model_name": "LayoutModel",
     "state": {
      "_model_module": "@jupyter-widgets/base",
      "_model_module_version": "1.2.0",
      "_model_name": "LayoutModel",
      "_view_count": null,
      "_view_module": "@jupyter-widgets/base",
      "_view_module_version": "1.2.0",
      "_view_name": "LayoutView",
      "align_content": null,
      "align_items": null,
      "align_self": null,
      "border": null,
      "bottom": null,
      "display": "inline-flex",
      "flex": null,
      "flex_flow": "row wrap",
      "grid_area": null,
      "grid_auto_columns": null,
      "grid_auto_flow": null,
      "grid_auto_rows": null,
      "grid_column": null,
      "grid_gap": null,
      "grid_row": null,
      "grid_template_areas": null,
      "grid_template_columns": null,
      "grid_template_rows": null,
      "height": null,
      "justify_content": null,
      "justify_items": null,
      "left": null,
      "margin": null,
      "max_height": null,
      "max_width": null,
      "min_height": null,
      "min_width": null,
      "object_fit": null,
      "object_position": null,
      "order": null,
      "overflow": null,
      "overflow_x": null,
      "overflow_y": null,
      "padding": null,
      "right": null,
      "top": null,
      "visibility": null,
      "width": "100%"
     }
    },
    "8bf4cb4bed464d47b82f3bde7b711730": {
     "model_module": "@jupyter-widgets/controls",
     "model_module_version": "1.5.0",
     "model_name": "HTMLModel",
     "state": {
      "_dom_classes": [],
      "_model_module": "@jupyter-widgets/controls",
      "_model_module_version": "1.5.0",
      "_model_name": "HTMLModel",
      "_view_count": null,
      "_view_module": "@jupyter-widgets/controls",
      "_view_module_version": "1.5.0",
      "_view_name": "HTMLView",
      "description": "",
      "description_tooltip": null,
      "layout": "IPY_MODEL_e33b146f13d6484e963891ff8f639c06",
      "placeholder": "​",
      "style": "IPY_MODEL_77efe6e1cc344e7fb4f7eaa5fdb6fd10",
      "value": "Sanity Checking DataLoader 0: 100%"
     }
    },
    "93b138099c3d41bb939fdf8795357e5a": {
     "model_module": "@jupyter-widgets/controls",
     "model_module_version": "1.5.0",
     "model_name": "DescriptionStyleModel",
     "state": {
      "_model_module": "@jupyter-widgets/controls",
      "_model_module_version": "1.5.0",
      "_model_name": "DescriptionStyleModel",
      "_view_count": null,
      "_view_module": "@jupyter-widgets/base",
      "_view_module_version": "1.2.0",
      "_view_name": "StyleView",
      "description_width": ""
     }
    },
    "959411d0c6414e85a420938eae8e6a4d": {
     "model_module": "@jupyter-widgets/base",
     "model_module_version": "1.2.0",
     "model_name": "LayoutModel",
     "state": {
      "_model_module": "@jupyter-widgets/base",
      "_model_module_version": "1.2.0",
      "_model_name": "LayoutModel",
      "_view_count": null,
      "_view_module": "@jupyter-widgets/base",
      "_view_module_version": "1.2.0",
      "_view_name": "LayoutView",
      "align_content": null,
      "align_items": null,
      "align_self": null,
      "border": null,
      "bottom": null,
      "display": "inline-flex",
      "flex": null,
      "flex_flow": "row wrap",
      "grid_area": null,
      "grid_auto_columns": null,
      "grid_auto_flow": null,
      "grid_auto_rows": null,
      "grid_column": null,
      "grid_gap": null,
      "grid_row": null,
      "grid_template_areas": null,
      "grid_template_columns": null,
      "grid_template_rows": null,
      "height": null,
      "justify_content": null,
      "justify_items": null,
      "left": null,
      "margin": null,
      "max_height": null,
      "max_width": null,
      "min_height": null,
      "min_width": null,
      "object_fit": null,
      "object_position": null,
      "order": null,
      "overflow": null,
      "overflow_x": null,
      "overflow_y": null,
      "padding": null,
      "right": null,
      "top": null,
      "visibility": null,
      "width": "100%"
     }
    },
    "9841a30407974009aa0a09e34a231214": {
     "model_module": "@jupyter-widgets/base",
     "model_module_version": "1.2.0",
     "model_name": "LayoutModel",
     "state": {
      "_model_module": "@jupyter-widgets/base",
      "_model_module_version": "1.2.0",
      "_model_name": "LayoutModel",
      "_view_count": null,
      "_view_module": "@jupyter-widgets/base",
      "_view_module_version": "1.2.0",
      "_view_name": "LayoutView",
      "align_content": null,
      "align_items": null,
      "align_self": null,
      "border": null,
      "bottom": null,
      "display": "inline-flex",
      "flex": null,
      "flex_flow": "row wrap",
      "grid_area": null,
      "grid_auto_columns": null,
      "grid_auto_flow": null,
      "grid_auto_rows": null,
      "grid_column": null,
      "grid_gap": null,
      "grid_row": null,
      "grid_template_areas": null,
      "grid_template_columns": null,
      "grid_template_rows": null,
      "height": null,
      "justify_content": null,
      "justify_items": null,
      "left": null,
      "margin": null,
      "max_height": null,
      "max_width": null,
      "min_height": null,
      "min_width": null,
      "object_fit": null,
      "object_position": null,
      "order": null,
      "overflow": null,
      "overflow_x": null,
      "overflow_y": null,
      "padding": null,
      "right": null,
      "top": null,
      "visibility": "hidden",
      "width": "100%"
     }
    },
    "98893cb7bcf6462183722ea4a6c87d49": {
     "model_module": "@jupyter-widgets/controls",
     "model_module_version": "1.5.0",
     "model_name": "HBoxModel",
     "state": {
      "_dom_classes": [],
      "_model_module": "@jupyter-widgets/controls",
      "_model_module_version": "1.5.0",
      "_model_name": "HBoxModel",
      "_view_count": null,
      "_view_module": "@jupyter-widgets/controls",
      "_view_module_version": "1.5.0",
      "_view_name": "HBoxView",
      "box_style": "",
      "children": [
       "IPY_MODEL_49477a1542f74083a0c75f62e35fc210",
       "IPY_MODEL_e6caabd96f25465abb2c5553089f19af",
       "IPY_MODEL_17840977d34c4291bff4fd519cdf5317"
      ],
      "layout": "IPY_MODEL_9841a30407974009aa0a09e34a231214"
     }
    },
    "9895d0133d5044ad80aec708fe38b441": {
     "model_module": "@jupyter-widgets/controls",
     "model_module_version": "1.5.0",
     "model_name": "HTMLModel",
     "state": {
      "_dom_classes": [],
      "_model_module": "@jupyter-widgets/controls",
      "_model_module_version": "1.5.0",
      "_model_name": "HTMLModel",
      "_view_count": null,
      "_view_module": "@jupyter-widgets/controls",
      "_view_module_version": "1.5.0",
      "_view_name": "HTMLView",
      "description": "",
      "description_tooltip": null,
      "layout": "IPY_MODEL_525e3014b9d04d329395e663e29a49c3",
      "placeholder": "​",
      "style": "IPY_MODEL_83376acbf56d494380b32e3fee87a721",
      "value": " 231/231 [00:21&lt;00:00, 10.57it/s]"
     }
    },
    "98d1af24e0484863988952149c94a9c2": {
     "model_module": "@jupyter-widgets/controls",
     "model_module_version": "1.5.0",
     "model_name": "FloatProgressModel",
     "state": {
      "_dom_classes": [],
      "_model_module": "@jupyter-widgets/controls",
      "_model_module_version": "1.5.0",
      "_model_name": "FloatProgressModel",
      "_view_count": null,
      "_view_module": "@jupyter-widgets/controls",
      "_view_module_version": "1.5.0",
      "_view_name": "ProgressView",
      "bar_style": "",
      "description": "",
      "description_tooltip": null,
      "layout": "IPY_MODEL_0b534d1b01874475a66b82ef8524218b",
      "max": 231,
      "min": 0,
      "orientation": "horizontal",
      "style": "IPY_MODEL_225ef5d896024a64b263d3372370be93",
      "value": 231
     }
    },
    "99964f93d43b44a685a4a52afbf0cea5": {
     "model_module": "@jupyter-widgets/controls",
     "model_module_version": "1.5.0",
     "model_name": "HBoxModel",
     "state": {
      "_dom_classes": [],
      "_model_module": "@jupyter-widgets/controls",
      "_model_module_version": "1.5.0",
      "_model_name": "HBoxModel",
      "_view_count": null,
      "_view_module": "@jupyter-widgets/controls",
      "_view_module_version": "1.5.0",
      "_view_name": "HBoxView",
      "box_style": "",
      "children": [
       "IPY_MODEL_84be9651938f4d658a75afa6e6f5fe42",
       "IPY_MODEL_2aec18a1fac947c78dab0c894c7e00f3",
       "IPY_MODEL_b199b88f0a05451c810effb9bbb5e38c"
      ],
      "layout": "IPY_MODEL_fc18036c050c4fdd93418465f01b9ca5"
     }
    },
    "9be9ff240d3a4d169fdaf572d1741416": {
     "model_module": "@jupyter-widgets/base",
     "model_module_version": "1.2.0",
     "model_name": "LayoutModel",
     "state": {
      "_model_module": "@jupyter-widgets/base",
      "_model_module_version": "1.2.0",
      "_model_name": "LayoutModel",
      "_view_count": null,
      "_view_module": "@jupyter-widgets/base",
      "_view_module_version": "1.2.0",
      "_view_name": "LayoutView",
      "align_content": null,
      "align_items": null,
      "align_self": null,
      "border": null,
      "bottom": null,
      "display": "inline-flex",
      "flex": null,
      "flex_flow": "row wrap",
      "grid_area": null,
      "grid_auto_columns": null,
      "grid_auto_flow": null,
      "grid_auto_rows": null,
      "grid_column": null,
      "grid_gap": null,
      "grid_row": null,
      "grid_template_areas": null,
      "grid_template_columns": null,
      "grid_template_rows": null,
      "height": null,
      "justify_content": null,
      "justify_items": null,
      "left": null,
      "margin": null,
      "max_height": null,
      "max_width": null,
      "min_height": null,
      "min_width": null,
      "object_fit": null,
      "object_position": null,
      "order": null,
      "overflow": null,
      "overflow_x": null,
      "overflow_y": null,
      "padding": null,
      "right": null,
      "top": null,
      "visibility": "hidden",
      "width": "100%"
     }
    },
    "9cd35e00c75f4dc68f2ec2e0270d3e24": {
     "model_module": "@jupyter-widgets/base",
     "model_module_version": "1.2.0",
     "model_name": "LayoutModel",
     "state": {
      "_model_module": "@jupyter-widgets/base",
      "_model_module_version": "1.2.0",
      "_model_name": "LayoutModel",
      "_view_count": null,
      "_view_module": "@jupyter-widgets/base",
      "_view_module_version": "1.2.0",
      "_view_name": "LayoutView",
      "align_content": null,
      "align_items": null,
      "align_self": null,
      "border": null,
      "bottom": null,
      "display": null,
      "flex": "2",
      "flex_flow": null,
      "grid_area": null,
      "grid_auto_columns": null,
      "grid_auto_flow": null,
      "grid_auto_rows": null,
      "grid_column": null,
      "grid_gap": null,
      "grid_row": null,
      "grid_template_areas": null,
      "grid_template_columns": null,
      "grid_template_rows": null,
      "height": null,
      "justify_content": null,
      "justify_items": null,
      "left": null,
      "margin": null,
      "max_height": null,
      "max_width": null,
      "min_height": null,
      "min_width": null,
      "object_fit": null,
      "object_position": null,
      "order": null,
      "overflow": null,
      "overflow_x": null,
      "overflow_y": null,
      "padding": null,
      "right": null,
      "top": null,
      "visibility": null,
      "width": null
     }
    },
    "9df78d9b7e17447889d0eeda114c666b": {
     "model_module": "@jupyter-widgets/base",
     "model_module_version": "1.2.0",
     "model_name": "LayoutModel",
     "state": {
      "_model_module": "@jupyter-widgets/base",
      "_model_module_version": "1.2.0",
      "_model_name": "LayoutModel",
      "_view_count": null,
      "_view_module": "@jupyter-widgets/base",
      "_view_module_version": "1.2.0",
      "_view_name": "LayoutView",
      "align_content": null,
      "align_items": null,
      "align_self": null,
      "border": null,
      "bottom": null,
      "display": null,
      "flex": "2",
      "flex_flow": null,
      "grid_area": null,
      "grid_auto_columns": null,
      "grid_auto_flow": null,
      "grid_auto_rows": null,
      "grid_column": null,
      "grid_gap": null,
      "grid_row": null,
      "grid_template_areas": null,
      "grid_template_columns": null,
      "grid_template_rows": null,
      "height": null,
      "justify_content": null,
      "justify_items": null,
      "left": null,
      "margin": null,
      "max_height": null,
      "max_width": null,
      "min_height": null,
      "min_width": null,
      "object_fit": null,
      "object_position": null,
      "order": null,
      "overflow": null,
      "overflow_x": null,
      "overflow_y": null,
      "padding": null,
      "right": null,
      "top": null,
      "visibility": null,
      "width": null
     }
    },
    "a213164f11f644529c4b0ef75d2fb24d": {
     "model_module": "@jupyter-widgets/controls",
     "model_module_version": "1.5.0",
     "model_name": "ProgressStyleModel",
     "state": {
      "_model_module": "@jupyter-widgets/controls",
      "_model_module_version": "1.5.0",
      "_model_name": "ProgressStyleModel",
      "_view_count": null,
      "_view_module": "@jupyter-widgets/base",
      "_view_module_version": "1.2.0",
      "_view_name": "StyleView",
      "bar_color": null,
      "description_width": ""
     }
    },
    "a7f200cdf5c94ed2a486ea314bc5afb7": {
     "model_module": "@jupyter-widgets/controls",
     "model_module_version": "1.5.0",
     "model_name": "HBoxModel",
     "state": {
      "_dom_classes": [],
      "_model_module": "@jupyter-widgets/controls",
      "_model_module_version": "1.5.0",
      "_model_name": "HBoxModel",
      "_view_count": null,
      "_view_module": "@jupyter-widgets/controls",
      "_view_module_version": "1.5.0",
      "_view_name": "HBoxView",
      "box_style": "",
      "children": [
       "IPY_MODEL_82134d19737145879d116a5baae7c32c",
       "IPY_MODEL_02932ae8e86d4d769e47334bcafbfebb",
       "IPY_MODEL_09537b03f63d41b98ecd2f0156f86999"
      ],
      "layout": "IPY_MODEL_9be9ff240d3a4d169fdaf572d1741416"
     }
    },
    "a93cb852d6264eb0afde3425dcb0a047": {
     "model_module": "@jupyter-widgets/base",
     "model_module_version": "1.2.0",
     "model_name": "LayoutModel",
     "state": {
      "_model_module": "@jupyter-widgets/base",
      "_model_module_version": "1.2.0",
      "_model_name": "LayoutModel",
      "_view_count": null,
      "_view_module": "@jupyter-widgets/base",
      "_view_module_version": "1.2.0",
      "_view_name": "LayoutView",
      "align_content": null,
      "align_items": null,
      "align_self": null,
      "border": null,
      "bottom": null,
      "display": null,
      "flex": null,
      "flex_flow": null,
      "grid_area": null,
      "grid_auto_columns": null,
      "grid_auto_flow": null,
      "grid_auto_rows": null,
      "grid_column": null,
      "grid_gap": null,
      "grid_row": null,
      "grid_template_areas": null,
      "grid_template_columns": null,
      "grid_template_rows": null,
      "height": null,
      "justify_content": null,
      "justify_items": null,
      "left": null,
      "margin": null,
      "max_height": null,
      "max_width": null,
      "min_height": null,
      "min_width": null,
      "object_fit": null,
      "object_position": null,
      "order": null,
      "overflow": null,
      "overflow_x": null,
      "overflow_y": null,
      "padding": null,
      "right": null,
      "top": null,
      "visibility": null,
      "width": null
     }
    },
    "afa6a5ad975747f594659fbd2fe7073e": {
     "model_module": "@jupyter-widgets/controls",
     "model_module_version": "1.5.0",
     "model_name": "ProgressStyleModel",
     "state": {
      "_model_module": "@jupyter-widgets/controls",
      "_model_module_version": "1.5.0",
      "_model_name": "ProgressStyleModel",
      "_view_count": null,
      "_view_module": "@jupyter-widgets/base",
      "_view_module_version": "1.2.0",
      "_view_name": "StyleView",
      "bar_color": null,
      "description_width": ""
     }
    },
    "b199b88f0a05451c810effb9bbb5e38c": {
     "model_module": "@jupyter-widgets/controls",
     "model_module_version": "1.5.0",
     "model_name": "HTMLModel",
     "state": {
      "_dom_classes": [],
      "_model_module": "@jupyter-widgets/controls",
      "_model_module_version": "1.5.0",
      "_model_name": "HTMLModel",
      "_view_count": null,
      "_view_module": "@jupyter-widgets/controls",
      "_view_module_version": "1.5.0",
      "_view_name": "HTMLView",
      "description": "",
      "description_tooltip": null,
      "layout": "IPY_MODEL_6b6d3c3a989845928c26337d27f0494e",
      "placeholder": "​",
      "style": "IPY_MODEL_35e600e944fe4760ab599baad87055e6",
      "value": " 231/231 [00:22&lt;00:00, 10.07it/s]"
     }
    },
    "c444018f413d4b51a1e7510f5715fdaf": {
     "model_module": "@jupyter-widgets/controls",
     "model_module_version": "1.5.0",
     "model_name": "HTMLModel",
     "state": {
      "_dom_classes": [],
      "_model_module": "@jupyter-widgets/controls",
      "_model_module_version": "1.5.0",
      "_model_name": "HTMLModel",
      "_view_count": null,
      "_view_module": "@jupyter-widgets/controls",
      "_view_module_version": "1.5.0",
      "_view_name": "HTMLView",
      "description": "",
      "description_tooltip": null,
      "layout": "IPY_MODEL_57f02730766a4c778d7508b5da8b7082",
      "placeholder": "​",
      "style": "IPY_MODEL_593dfd23d49d47708c00b57dd01898f0",
      "value": " 809/809 [03:07&lt;00:00,  4.31it/s, v_num=3]"
     }
    },
    "c46ed2f3feba4237aeda4882284edb2e": {
     "model_module": "@jupyter-widgets/base",
     "model_module_version": "1.2.0",
     "model_name": "LayoutModel",
     "state": {
      "_model_module": "@jupyter-widgets/base",
      "_model_module_version": "1.2.0",
      "_model_name": "LayoutModel",
      "_view_count": null,
      "_view_module": "@jupyter-widgets/base",
      "_view_module_version": "1.2.0",
      "_view_name": "LayoutView",
      "align_content": null,
      "align_items": null,
      "align_self": null,
      "border": null,
      "bottom": null,
      "display": null,
      "flex": "2",
      "flex_flow": null,
      "grid_area": null,
      "grid_auto_columns": null,
      "grid_auto_flow": null,
      "grid_auto_rows": null,
      "grid_column": null,
      "grid_gap": null,
      "grid_row": null,
      "grid_template_areas": null,
      "grid_template_columns": null,
      "grid_template_rows": null,
      "height": null,
      "justify_content": null,
      "justify_items": null,
      "left": null,
      "margin": null,
      "max_height": null,
      "max_width": null,
      "min_height": null,
      "min_width": null,
      "object_fit": null,
      "object_position": null,
      "order": null,
      "overflow": null,
      "overflow_x": null,
      "overflow_y": null,
      "padding": null,
      "right": null,
      "top": null,
      "visibility": null,
      "width": null
     }
    },
    "c979865b5ef54707adee4acf3993cac6": {
     "model_module": "@jupyter-widgets/base",
     "model_module_version": "1.2.0",
     "model_name": "LayoutModel",
     "state": {
      "_model_module": "@jupyter-widgets/base",
      "_model_module_version": "1.2.0",
      "_model_name": "LayoutModel",
      "_view_count": null,
      "_view_module": "@jupyter-widgets/base",
      "_view_module_version": "1.2.0",
      "_view_name": "LayoutView",
      "align_content": null,
      "align_items": null,
      "align_self": null,
      "border": null,
      "bottom": null,
      "display": null,
      "flex": "2",
      "flex_flow": null,
      "grid_area": null,
      "grid_auto_columns": null,
      "grid_auto_flow": null,
      "grid_auto_rows": null,
      "grid_column": null,
      "grid_gap": null,
      "grid_row": null,
      "grid_template_areas": null,
      "grid_template_columns": null,
      "grid_template_rows": null,
      "height": null,
      "justify_content": null,
      "justify_items": null,
      "left": null,
      "margin": null,
      "max_height": null,
      "max_width": null,
      "min_height": null,
      "min_width": null,
      "object_fit": null,
      "object_position": null,
      "order": null,
      "overflow": null,
      "overflow_x": null,
      "overflow_y": null,
      "padding": null,
      "right": null,
      "top": null,
      "visibility": null,
      "width": null
     }
    },
    "cadca4683cc742a4bebbbeb47d3d4e54": {
     "model_module": "@jupyter-widgets/controls",
     "model_module_version": "1.5.0",
     "model_name": "HBoxModel",
     "state": {
      "_dom_classes": [],
      "_model_module": "@jupyter-widgets/controls",
      "_model_module_version": "1.5.0",
      "_model_name": "HBoxModel",
      "_view_count": null,
      "_view_module": "@jupyter-widgets/controls",
      "_view_module_version": "1.5.0",
      "_view_name": "HBoxView",
      "box_style": "",
      "children": [
       "IPY_MODEL_3fc01f9517ff4f7b97ef9dc874865b33",
       "IPY_MODEL_58cdcfd5ee3d4d67ba926bed8afb4750",
       "IPY_MODEL_c444018f413d4b51a1e7510f5715fdaf"
      ],
      "layout": "IPY_MODEL_959411d0c6414e85a420938eae8e6a4d"
     }
    },
    "d0a3706d10054328ad112b49f48fb93b": {
     "model_module": "@jupyter-widgets/controls",
     "model_module_version": "1.5.0",
     "model_name": "HTMLModel",
     "state": {
      "_dom_classes": [],
      "_model_module": "@jupyter-widgets/controls",
      "_model_module_version": "1.5.0",
      "_model_name": "HTMLModel",
      "_view_count": null,
      "_view_module": "@jupyter-widgets/controls",
      "_view_module_version": "1.5.0",
      "_view_name": "HTMLView",
      "description": "",
      "description_tooltip": null,
      "layout": "IPY_MODEL_0e3386e21a5e46b288c911aa1671ab15",
      "placeholder": "​",
      "style": "IPY_MODEL_d286b43d2d864637b6f2977da21fd757",
      "value": "Testing DataLoader 0: 100%"
     }
    },
    "d286b43d2d864637b6f2977da21fd757": {
     "model_module": "@jupyter-widgets/controls",
     "model_module_version": "1.5.0",
     "model_name": "DescriptionStyleModel",
     "state": {
      "_model_module": "@jupyter-widgets/controls",
      "_model_module_version": "1.5.0",
      "_model_name": "DescriptionStyleModel",
      "_view_count": null,
      "_view_module": "@jupyter-widgets/base",
      "_view_module_version": "1.2.0",
      "_view_name": "StyleView",
      "description_width": ""
     }
    },
    "d63e8324ad704d59b71560188e3b11ce": {
     "model_module": "@jupyter-widgets/base",
     "model_module_version": "1.2.0",
     "model_name": "LayoutModel",
     "state": {
      "_model_module": "@jupyter-widgets/base",
      "_model_module_version": "1.2.0",
      "_model_name": "LayoutModel",
      "_view_count": null,
      "_view_module": "@jupyter-widgets/base",
      "_view_module_version": "1.2.0",
      "_view_name": "LayoutView",
      "align_content": null,
      "align_items": null,
      "align_self": null,
      "border": null,
      "bottom": null,
      "display": null,
      "flex": null,
      "flex_flow": null,
      "grid_area": null,
      "grid_auto_columns": null,
      "grid_auto_flow": null,
      "grid_auto_rows": null,
      "grid_column": null,
      "grid_gap": null,
      "grid_row": null,
      "grid_template_areas": null,
      "grid_template_columns": null,
      "grid_template_rows": null,
      "height": null,
      "justify_content": null,
      "justify_items": null,
      "left": null,
      "margin": null,
      "max_height": null,
      "max_width": null,
      "min_height": null,
      "min_width": null,
      "object_fit": null,
      "object_position": null,
      "order": null,
      "overflow": null,
      "overflow_x": null,
      "overflow_y": null,
      "padding": null,
      "right": null,
      "top": null,
      "visibility": null,
      "width": null
     }
    },
    "d9b04fc3a8aa47ff9e0a6beb34db1750": {
     "model_module": "@jupyter-widgets/controls",
     "model_module_version": "1.5.0",
     "model_name": "HBoxModel",
     "state": {
      "_dom_classes": [],
      "_model_module": "@jupyter-widgets/controls",
      "_model_module_version": "1.5.0",
      "_model_name": "HBoxModel",
      "_view_count": null,
      "_view_module": "@jupyter-widgets/controls",
      "_view_module_version": "1.5.0",
      "_view_name": "HBoxView",
      "box_style": "",
      "children": [
       "IPY_MODEL_8597a98fe8e548be8764f43d4ea2dbf8",
       "IPY_MODEL_568deaa6b0bf49bf9c412500a32e5c40",
       "IPY_MODEL_481274726ea64564aaedf83d6d60bf68"
      ],
      "layout": "IPY_MODEL_597c427b9aff44b1be5abdb3a823f0a1"
     }
    },
    "d9b14557af7d44c1bf6cae8676ce9735": {
     "model_module": "@jupyter-widgets/controls",
     "model_module_version": "1.5.0",
     "model_name": "ProgressStyleModel",
     "state": {
      "_model_module": "@jupyter-widgets/controls",
      "_model_module_version": "1.5.0",
      "_model_name": "ProgressStyleModel",
      "_view_count": null,
      "_view_module": "@jupyter-widgets/base",
      "_view_module_version": "1.2.0",
      "_view_name": "StyleView",
      "bar_color": null,
      "description_width": ""
     }
    },
    "d9d4433006834feb94cd386a92eacf19": {
     "model_module": "@jupyter-widgets/controls",
     "model_module_version": "1.5.0",
     "model_name": "FloatProgressModel",
     "state": {
      "_dom_classes": [],
      "_model_module": "@jupyter-widgets/controls",
      "_model_module_version": "1.5.0",
      "_model_name": "FloatProgressModel",
      "_view_count": null,
      "_view_module": "@jupyter-widgets/controls",
      "_view_module_version": "1.5.0",
      "_view_name": "ProgressView",
      "bar_style": "success",
      "description": "",
      "description_tooltip": null,
      "layout": "IPY_MODEL_9cd35e00c75f4dc68f2ec2e0270d3e24",
      "max": 116,
      "min": 0,
      "orientation": "horizontal",
      "style": "IPY_MODEL_afa6a5ad975747f594659fbd2fe7073e",
      "value": 116
     }
    },
    "e2000416b4a3453288333d21587b7e14": {
     "model_module": "@jupyter-widgets/controls",
     "model_module_version": "1.5.0",
     "model_name": "DescriptionStyleModel",
     "state": {
      "_model_module": "@jupyter-widgets/controls",
      "_model_module_version": "1.5.0",
      "_model_name": "DescriptionStyleModel",
      "_view_count": null,
      "_view_module": "@jupyter-widgets/base",
      "_view_module_version": "1.2.0",
      "_view_name": "StyleView",
      "description_width": ""
     }
    },
    "e33b146f13d6484e963891ff8f639c06": {
     "model_module": "@jupyter-widgets/base",
     "model_module_version": "1.2.0",
     "model_name": "LayoutModel",
     "state": {
      "_model_module": "@jupyter-widgets/base",
      "_model_module_version": "1.2.0",
      "_model_name": "LayoutModel",
      "_view_count": null,
      "_view_module": "@jupyter-widgets/base",
      "_view_module_version": "1.2.0",
      "_view_name": "LayoutView",
      "align_content": null,
      "align_items": null,
      "align_self": null,
      "border": null,
      "bottom": null,
      "display": null,
      "flex": null,
      "flex_flow": null,
      "grid_area": null,
      "grid_auto_columns": null,
      "grid_auto_flow": null,
      "grid_auto_rows": null,
      "grid_column": null,
      "grid_gap": null,
      "grid_row": null,
      "grid_template_areas": null,
      "grid_template_columns": null,
      "grid_template_rows": null,
      "height": null,
      "justify_content": null,
      "justify_items": null,
      "left": null,
      "margin": null,
      "max_height": null,
      "max_width": null,
      "min_height": null,
      "min_width": null,
      "object_fit": null,
      "object_position": null,
      "order": null,
      "overflow": null,
      "overflow_x": null,
      "overflow_y": null,
      "padding": null,
      "right": null,
      "top": null,
      "visibility": null,
      "width": null
     }
    },
    "e6caabd96f25465abb2c5553089f19af": {
     "model_module": "@jupyter-widgets/controls",
     "model_module_version": "1.5.0",
     "model_name": "FloatProgressModel",
     "state": {
      "_dom_classes": [],
      "_model_module": "@jupyter-widgets/controls",
      "_model_module_version": "1.5.0",
      "_model_name": "FloatProgressModel",
      "_view_count": null,
      "_view_module": "@jupyter-widgets/controls",
      "_view_module_version": "1.5.0",
      "_view_name": "ProgressView",
      "bar_style": "",
      "description": "",
      "description_tooltip": null,
      "layout": "IPY_MODEL_c46ed2f3feba4237aeda4882284edb2e",
      "max": 231,
      "min": 0,
      "orientation": "horizontal",
      "style": "IPY_MODEL_71a623ee8b2042c6931b58265915d953",
      "value": 231
     }
    },
    "f1c572c7bcb54fc8959f0a4776ab24ce": {
     "model_module": "@jupyter-widgets/base",
     "model_module_version": "1.2.0",
     "model_name": "LayoutModel",
     "state": {
      "_model_module": "@jupyter-widgets/base",
      "_model_module_version": "1.2.0",
      "_model_name": "LayoutModel",
      "_view_count": null,
      "_view_module": "@jupyter-widgets/base",
      "_view_module_version": "1.2.0",
      "_view_name": "LayoutView",
      "align_content": null,
      "align_items": null,
      "align_self": null,
      "border": null,
      "bottom": null,
      "display": null,
      "flex": null,
      "flex_flow": null,
      "grid_area": null,
      "grid_auto_columns": null,
      "grid_auto_flow": null,
      "grid_auto_rows": null,
      "grid_column": null,
      "grid_gap": null,
      "grid_row": null,
      "grid_template_areas": null,
      "grid_template_columns": null,
      "grid_template_rows": null,
      "height": null,
      "justify_content": null,
      "justify_items": null,
      "left": null,
      "margin": null,
      "max_height": null,
      "max_width": null,
      "min_height": null,
      "min_width": null,
      "object_fit": null,
      "object_position": null,
      "order": null,
      "overflow": null,
      "overflow_x": null,
      "overflow_y": null,
      "padding": null,
      "right": null,
      "top": null,
      "visibility": null,
      "width": null
     }
    },
    "f79c5460eac349d6970adbe78d30dfbc": {
     "model_module": "@jupyter-widgets/controls",
     "model_module_version": "1.5.0",
     "model_name": "HBoxModel",
     "state": {
      "_dom_classes": [],
      "_model_module": "@jupyter-widgets/controls",
      "_model_module_version": "1.5.0",
      "_model_name": "HBoxModel",
      "_view_count": null,
      "_view_module": "@jupyter-widgets/controls",
      "_view_module_version": "1.5.0",
      "_view_name": "HBoxView",
      "box_style": "",
      "children": [
       "IPY_MODEL_d0a3706d10054328ad112b49f48fb93b",
       "IPY_MODEL_d9d4433006834feb94cd386a92eacf19",
       "IPY_MODEL_36f3e86c3d0c4187aac0998aa391d041"
      ],
      "layout": "IPY_MODEL_8a620d93b8cf4a9a8d1c4e3218cecd20"
     }
    },
    "fa82fe9e9c784684aaf6fbd5448feb4f": {
     "model_module": "@jupyter-widgets/base",
     "model_module_version": "1.2.0",
     "model_name": "LayoutModel",
     "state": {
      "_model_module": "@jupyter-widgets/base",
      "_model_module_version": "1.2.0",
      "_model_name": "LayoutModel",
      "_view_count": null,
      "_view_module": "@jupyter-widgets/base",
      "_view_module_version": "1.2.0",
      "_view_name": "LayoutView",
      "align_content": null,
      "align_items": null,
      "align_self": null,
      "border": null,
      "bottom": null,
      "display": null,
      "flex": null,
      "flex_flow": null,
      "grid_area": null,
      "grid_auto_columns": null,
      "grid_auto_flow": null,
      "grid_auto_rows": null,
      "grid_column": null,
      "grid_gap": null,
      "grid_row": null,
      "grid_template_areas": null,
      "grid_template_columns": null,
      "grid_template_rows": null,
      "height": null,
      "justify_content": null,
      "justify_items": null,
      "left": null,
      "margin": null,
      "max_height": null,
      "max_width": null,
      "min_height": null,
      "min_width": null,
      "object_fit": null,
      "object_position": null,
      "order": null,
      "overflow": null,
      "overflow_x": null,
      "overflow_y": null,
      "padding": null,
      "right": null,
      "top": null,
      "visibility": null,
      "width": null
     }
    },
    "fc18036c050c4fdd93418465f01b9ca5": {
     "model_module": "@jupyter-widgets/base",
     "model_module_version": "1.2.0",
     "model_name": "LayoutModel",
     "state": {
      "_model_module": "@jupyter-widgets/base",
      "_model_module_version": "1.2.0",
      "_model_name": "LayoutModel",
      "_view_count": null,
      "_view_module": "@jupyter-widgets/base",
      "_view_module_version": "1.2.0",
      "_view_name": "LayoutView",
      "align_content": null,
      "align_items": null,
      "align_self": null,
      "border": null,
      "bottom": null,
      "display": "inline-flex",
      "flex": null,
      "flex_flow": "row wrap",
      "grid_area": null,
      "grid_auto_columns": null,
      "grid_auto_flow": null,
      "grid_auto_rows": null,
      "grid_column": null,
      "grid_gap": null,
      "grid_row": null,
      "grid_template_areas": null,
      "grid_template_columns": null,
      "grid_template_rows": null,
      "height": null,
      "justify_content": null,
      "justify_items": null,
      "left": null,
      "margin": null,
      "max_height": null,
      "max_width": null,
      "min_height": null,
      "min_width": null,
      "object_fit": null,
      "object_position": null,
      "order": null,
      "overflow": null,
      "overflow_x": null,
      "overflow_y": null,
      "padding": null,
      "right": null,
      "top": null,
      "visibility": "hidden",
      "width": "100%"
     }
    }
   }
  }
 },
 "nbformat": 4,
 "nbformat_minor": 5
}
